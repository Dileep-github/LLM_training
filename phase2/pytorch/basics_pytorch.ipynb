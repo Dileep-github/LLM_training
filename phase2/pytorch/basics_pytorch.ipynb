{
 "cells": [
  {
   "cell_type": "code",
   "execution_count": null,
   "id": "5e4f3b3e",
   "metadata": {},
   "outputs": [],
   "source": []
  },
  {
   "cell_type": "markdown",
   "id": "68f5425d",
   "metadata": {},
   "source": [
    "https://code.visualstudio.com/docs/datascience/pytorch-support"
   ]
  },
  {
   "cell_type": "markdown",
   "id": "0db6c120",
   "metadata": {},
   "source": []
  }
 ],
 "metadata": {
  "language_info": {
   "name": "python"
  }
 },
 "nbformat": 4,
 "nbformat_minor": 5
}
