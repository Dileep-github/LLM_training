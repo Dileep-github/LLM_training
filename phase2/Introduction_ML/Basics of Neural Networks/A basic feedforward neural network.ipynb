{
 "cells": [
  {
   "cell_type": "markdown",
   "metadata": {
    "id": "8x2SVz58VOgS"
   },
   "source": [
    "Importing important libraries"
   ]
  },
  {
   "cell_type": "code",
   "execution_count": 12,
   "metadata": {
    "executionInfo": {
     "elapsed": 15290,
     "status": "ok",
     "timestamp": 1743829511731,
     "user": {
      "displayName": "Rachit Chhaya",
      "userId": "07729117591589969869"
     },
     "user_tz": -330
    },
    "id": "m8j6FzPGUmR2"
   },
   "outputs": [],
   "source": [
    "import numpy as np\n",
    "import torch\n",
    "import torch.nn as nn\n",
    "import torch.optim as optim\n",
    "from sklearn.datasets import load_breast_cancer\n",
    "from rich import print\n",
    "#from torch.utils.tensorboard import SummaryWriter"
   ]
  },
  {
   "cell_type": "code",
   "execution_count": 13,
   "metadata": {
    "executionInfo": {
     "elapsed": 16,
     "status": "ok",
     "timestamp": 1743829514067,
     "user": {
      "displayName": "Rachit Chhaya",
      "userId": "07729117591589969869"
     },
     "user_tz": -330
    },
    "id": "otCJ5J96VkQa"
   },
   "outputs": [],
   "source": [
    "X,y = load_breast_cancer(return_X_y = True)"
   ]
  },
  {
   "cell_type": "markdown",
   "metadata": {
    "id": "NQW22n3qV1CS"
   },
   "source": [
    "Converting data to appropriate pytorch tensors\n"
   ]
  },
  {
   "cell_type": "code",
   "execution_count": 14,
   "metadata": {
    "executionInfo": {
     "elapsed": 87,
     "status": "ok",
     "timestamp": 1743829520523,
     "user": {
      "displayName": "Rachit Chhaya",
      "userId": "07729117591589969869"
     },
     "user_tz": -330
    },
    "id": "O-Man1BdVsOi"
   },
   "outputs": [],
   "source": [
    "X = torch.tensor(X, dtype=torch.float32)\n",
    "y = torch.tensor(y, dtype=torch.float32).reshape(-1, 1)"
   ]
  },
  {
   "cell_type": "markdown",
   "metadata": {
    "id": "Wz-DDEU2WB1a"
   },
   "source": [
    "Designing the Neural network model\n",
    "1. The model expects rows of data with 30 features (the first argument at the first layer set to 30)\n",
    "2. The first hidden layer has 40 neurons, followed by a ReLU activation function\n",
    "3. The second hidden layer has 10 neurons, followed by another ReLU activation function\n",
    "4. The output layer has one neuron, followed by a sigmoid activation function"
   ]
  },
  {
   "cell_type": "code",
   "execution_count": 4,
   "metadata": {
    "executionInfo": {
     "elapsed": 14,
     "status": "ok",
     "timestamp": 1743830343173,
     "user": {
      "displayName": "Rachit Chhaya",
      "userId": "07729117591589969869"
     },
     "user_tz": -330
    },
    "id": "Rml6Gy75VyLC"
   },
   "outputs": [],
   "source": [
    "model = nn.Sequential(\n",
    "    nn.Linear(30, 40),\n",
    "    nn.ReLU(),\n",
    "    nn.Linear(40, 10),\n",
    "    nn.ReLU(),\n",
    "    nn.Linear(10, 1),\n",
    "    nn.Sigmoid())"
   ]
  },
  {
   "cell_type": "markdown",
   "metadata": {
    "id": "Du0L2DxYWyo6"
   },
   "source": [
    "Printing the model\n"
   ]
  },
  {
   "cell_type": "code",
   "execution_count": 5,
   "metadata": {
    "colab": {
     "base_uri": "https://localhost:8080/"
    },
    "executionInfo": {
     "elapsed": 18,
     "status": "ok",
     "timestamp": 1743830345238,
     "user": {
      "displayName": "Rachit Chhaya",
      "userId": "07729117591589969869"
     },
     "user_tz": -330
    },
    "id": "AT_s3qX9W1ab",
    "outputId": "42cc45b7-ef24-49be-8b57-486a430d534f"
   },
   "outputs": [
    {
     "name": "stdout",
     "output_type": "stream",
     "text": [
      "Sequential(\n",
      "  (0): Linear(in_features=30, out_features=40, bias=True)\n",
      "  (1): ReLU()\n",
      "  (2): Linear(in_features=40, out_features=10, bias=True)\n",
      "  (3): ReLU()\n",
      "  (4): Linear(in_features=10, out_features=1, bias=True)\n",
      "  (5): Sigmoid()\n",
      ")\n"
     ]
    }
   ],
   "source": [
    "print(model)"
   ]
  },
  {
   "cell_type": "code",
   "execution_count": 6,
   "metadata": {
    "executionInfo": {
     "elapsed": 3,
     "status": "ok",
     "timestamp": 1743830347425,
     "user": {
      "displayName": "Rachit Chhaya",
      "userId": "07729117591589969869"
     },
     "user_tz": -330
    },
    "id": "yY-rlwS4W6Ib"
   },
   "outputs": [],
   "source": [
    "loss_fn = nn.BCELoss()  # binary cross entropy\n",
    "optimizer = optim.Adam(model.parameters(), lr=0.001)"
   ]
  },
  {
   "cell_type": "markdown",
   "metadata": {
    "id": "fOyB_bbkXYDT"
   },
   "source": [
    "Training the model with data"
   ]
  },
  {
   "cell_type": "code",
   "execution_count": 7,
   "metadata": {
    "colab": {
     "base_uri": "https://localhost:8080/"
    },
    "executionInfo": {
     "elapsed": 4206,
     "status": "ok",
     "timestamp": 1743830353044,
     "user": {
      "displayName": "Rachit Chhaya",
      "userId": "07729117591589969869"
     },
     "user_tz": -330
    },
    "id": "J2K5uIblXagj",
    "outputId": "fe24efb4-82e5-45e3-e51e-25711b49c4e0"
   },
   "outputs": [
    {
     "name": "stdout",
     "output_type": "stream",
     "text": [
      "Finished epoch 0, latest loss 0.6908172965049744\n",
      "Finished epoch 1, latest loss 0.36809974908828735\n",
      "Finished epoch 2, latest loss 0.4460136592388153\n",
      "Finished epoch 3, latest loss 0.3451783061027527\n",
      "Finished epoch 4, latest loss 0.36902377009391785\n",
      "Finished epoch 5, latest loss 0.3761952221393585\n",
      "Finished epoch 6, latest loss 0.34316909313201904\n",
      "Finished epoch 7, latest loss 0.3604460060596466\n",
      "Finished epoch 8, latest loss 0.3352917730808258\n",
      "Finished epoch 9, latest loss 0.344804972410202\n",
      "Finished epoch 10, latest loss 0.3431755304336548\n",
      "Finished epoch 11, latest loss 0.32388246059417725\n",
      "Finished epoch 12, latest loss 0.3410123884677887\n",
      "Finished epoch 13, latest loss 0.3290128707885742\n",
      "Finished epoch 14, latest loss 0.32630911469459534\n",
      "Finished epoch 15, latest loss 0.3231755197048187\n",
      "Finished epoch 16, latest loss 0.32252728939056396\n",
      "Finished epoch 17, latest loss 0.31711047887802124\n",
      "Finished epoch 18, latest loss 0.2967110574245453\n",
      "Finished epoch 19, latest loss 0.31051695346832275\n",
      "Finished epoch 20, latest loss 0.2873028814792633\n",
      "Finished epoch 21, latest loss 0.30655619502067566\n",
      "Finished epoch 22, latest loss 0.2919784188270569\n",
      "Finished epoch 23, latest loss 0.2968229055404663\n",
      "Finished epoch 24, latest loss 0.292663037776947\n",
      "Finished epoch 25, latest loss 0.2943531274795532\n",
      "Finished epoch 26, latest loss 0.2614196836948395\n",
      "Finished epoch 27, latest loss 0.2895459830760956\n",
      "Finished epoch 28, latest loss 0.255921870470047\n",
      "Finished epoch 29, latest loss 0.28300759196281433\n",
      "Finished epoch 30, latest loss 0.2451132982969284\n",
      "Finished epoch 31, latest loss 0.27845901250839233\n",
      "Finished epoch 32, latest loss 0.2355874627828598\n",
      "Finished epoch 33, latest loss 0.27425408363342285\n",
      "Finished epoch 34, latest loss 0.22703665494918823\n",
      "Finished epoch 35, latest loss 0.25832611322402954\n",
      "Finished epoch 36, latest loss 0.23811541497707367\n",
      "Finished epoch 37, latest loss 0.23943983018398285\n",
      "Finished epoch 38, latest loss 0.2386225014925003\n",
      "Finished epoch 39, latest loss 0.23165519535541534\n",
      "Finished epoch 40, latest loss 0.2294185757637024\n",
      "Finished epoch 41, latest loss 0.22542370855808258\n",
      "Finished epoch 42, latest loss 0.221688374876976\n",
      "Finished epoch 43, latest loss 0.21761740744113922\n",
      "Finished epoch 44, latest loss 0.21337324380874634\n",
      "Finished epoch 45, latest loss 0.21046273410320282\n",
      "Finished epoch 46, latest loss 0.20621778070926666\n",
      "Finished epoch 47, latest loss 0.20328456163406372\n",
      "Finished epoch 48, latest loss 0.19970718026161194\n",
      "Finished epoch 49, latest loss 0.19640669226646423\n",
      "Finished epoch 50, latest loss 0.19331057369709015\n",
      "Finished epoch 51, latest loss 0.190919429063797\n",
      "Finished epoch 52, latest loss 0.1865244060754776\n",
      "Finished epoch 53, latest loss 0.18214881420135498\n",
      "Finished epoch 54, latest loss 0.17782030999660492\n",
      "Finished epoch 55, latest loss 0.1753111481666565\n",
      "Finished epoch 56, latest loss 0.17087513208389282\n",
      "Finished epoch 57, latest loss 0.1681952327489853\n",
      "Finished epoch 58, latest loss 0.16427116096019745\n",
      "Finished epoch 59, latest loss 0.16079218685626984\n",
      "Finished epoch 60, latest loss 0.15730921924114227\n",
      "Finished epoch 61, latest loss 0.14910267293453217\n",
      "Finished epoch 62, latest loss 0.1711617112159729\n",
      "Finished epoch 63, latest loss 0.13906244933605194\n",
      "Finished epoch 64, latest loss 0.14179259538650513\n",
      "Finished epoch 65, latest loss 0.13761214911937714\n",
      "Finished epoch 66, latest loss 0.13480685651302338\n",
      "Finished epoch 67, latest loss 0.13069216907024384\n",
      "Finished epoch 68, latest loss 0.15343406796455383\n",
      "Finished epoch 69, latest loss 0.12133089452981949\n",
      "Finished epoch 70, latest loss 0.12294932454824448\n",
      "Finished epoch 71, latest loss 0.14498184621334076\n",
      "Finished epoch 72, latest loss 0.1141059398651123\n",
      "Finished epoch 73, latest loss 0.11495653539896011\n",
      "Finished epoch 74, latest loss 0.11288882791996002\n",
      "Finished epoch 75, latest loss 0.10926784574985504\n",
      "Finished epoch 76, latest loss 0.10707957297563553\n",
      "Finished epoch 77, latest loss 0.10459847748279572\n",
      "Finished epoch 78, latest loss 0.10240471363067627\n",
      "Finished epoch 79, latest loss 0.09992634505033493\n",
      "Finished epoch 80, latest loss 0.09761534631252289\n",
      "Finished epoch 81, latest loss 0.09509901702404022\n",
      "Finished epoch 82, latest loss 0.09336558729410172\n",
      "Finished epoch 83, latest loss 0.09100738167762756\n",
      "Finished epoch 84, latest loss 0.08842284977436066\n",
      "Finished epoch 85, latest loss 0.08631927520036697\n",
      "Finished epoch 86, latest loss 0.08373216539621353\n",
      "Finished epoch 87, latest loss 0.08104296028614044\n",
      "Finished epoch 88, latest loss 0.07926317304372787\n",
      "Finished epoch 89, latest loss 0.07729768007993698\n",
      "Finished epoch 90, latest loss 0.07505364716053009\n",
      "Finished epoch 91, latest loss 0.07295086234807968\n",
      "Finished epoch 92, latest loss 0.0714261457324028\n",
      "Finished epoch 93, latest loss 0.06955704092979431\n",
      "Finished epoch 94, latest loss 0.06801856309175491\n",
      "Finished epoch 95, latest loss 0.06578033417463303\n",
      "Finished epoch 96, latest loss 0.06439702957868576\n",
      "Finished epoch 97, latest loss 0.06277178227901459\n",
      "Finished epoch 98, latest loss 0.06141280382871628\n",
      "Finished epoch 99, latest loss 0.05988561362028122\n"
     ]
    }
   ],
   "source": [
    "n_epochs = 100\n",
    "batch_size = 20\n",
    "\n",
    "for epoch in range(n_epochs):\n",
    "    for i in range(0, len(X), batch_size):\n",
    "        Xbatch = X[i:i+batch_size]\n",
    "        y_pred = model(Xbatch)\n",
    "        ybatch = y[i:i+batch_size]\n",
    "        loss = loss_fn(y_pred, ybatch)\n",
    "        optimizer.zero_grad()\n",
    "        loss.backward()\n",
    "        optimizer.step()\n",
    "    print(f'Finished epoch {epoch}, latest loss {loss}')"
   ]
  },
  {
   "cell_type": "code",
   "execution_count": 8,
   "metadata": {
    "colab": {
     "base_uri": "https://localhost:8080/"
    },
    "executionInfo": {
     "elapsed": 22,
     "status": "ok",
     "timestamp": 1743830376243,
     "user": {
      "displayName": "Rachit Chhaya",
      "userId": "07729117591589969869"
     },
     "user_tz": -330
    },
    "id": "ouwhEvTLX0Zb",
    "outputId": "67e41ed0-c684-43be-b2b3-afb33ede7379"
   },
   "outputs": [
    {
     "name": "stdout",
     "output_type": "stream",
     "text": [
      "For point 0 : Predicted  0 (expected 0)\n",
      "For point 1 : Predicted  0 (expected 0)\n",
      "For point 2 : Predicted  0 (expected 0)\n",
      "For point 3 : Predicted  1 (expected 0)\n",
      "For point 4 : Predicted  0 (expected 0)\n",
      "For point 5 : Predicted  0 (expected 0)\n",
      "For point 6 : Predicted  0 (expected 0)\n",
      "For point 7 : Predicted  0 (expected 0)\n",
      "For point 8 : Predicted  0 (expected 0)\n",
      "For point 9 : Predicted  0 (expected 0)\n",
      "For point 10 : Predicted  0 (expected 0)\n",
      "For point 11 : Predicted  0 (expected 0)\n",
      "For point 12 : Predicted  0 (expected 0)\n",
      "For point 13 : Predicted  1 (expected 0)\n",
      "For point 14 : Predicted  1 (expected 0)\n",
      "For point 15 : Predicted  0 (expected 0)\n",
      "For point 16 : Predicted  0 (expected 0)\n",
      "For point 17 : Predicted  0 (expected 0)\n",
      "For point 18 : Predicted  0 (expected 0)\n",
      "For point 19 : Predicted  1 (expected 1)\n",
      "For point 20 : Predicted  1 (expected 1)\n",
      "For point 21 : Predicted  1 (expected 1)\n",
      "For point 22 : Predicted  0 (expected 0)\n",
      "For point 23 : Predicted  0 (expected 0)\n",
      "For point 24 : Predicted  0 (expected 0)\n",
      "For point 25 : Predicted  0 (expected 0)\n",
      "For point 26 : Predicted  0 (expected 0)\n",
      "For point 27 : Predicted  0 (expected 0)\n",
      "For point 28 : Predicted  0 (expected 0)\n",
      "For point 29 : Predicted  0 (expected 0)\n"
     ]
    }
   ],
   "source": [
    "predictions = model(X)\n",
    "# round predictions\n",
    "rounded = predictions.round()\n",
    "predictions = (model(X) > 0.5).int()\n",
    "for i in range(30):\n",
    "    print('For point %d : Predicted  %d (expected %d)' % (i, predictions[i], y[i]))"
   ]
  },
  {
   "cell_type": "code",
   "execution_count": 9,
   "metadata": {
    "colab": {
     "base_uri": "https://localhost:8080/"
    },
    "executionInfo": {
     "elapsed": 24,
     "status": "ok",
     "timestamp": 1743830521869,
     "user": {
      "displayName": "Rachit Chhaya",
      "userId": "07729117591589969869"
     },
     "user_tz": -330
    },
    "id": "9u2dWhfWZcOy",
    "outputId": "a5d75b38-6136-45c8-a02f-6e517c8f39a6"
   },
   "outputs": [
    {
     "name": "stdout",
     "output_type": "stream",
     "text": [
      "Accuracy score of the  model is  0.9402460456942003\n",
      "F1 Score of the model is  0.9540540540540541\n"
     ]
    },
    {
     "data": {
      "text/plain": [
       "array([[353,   4],\n",
       "       [ 30, 182]])"
      ]
     },
     "execution_count": 9,
     "metadata": {},
     "output_type": "execute_result"
    }
   ],
   "source": [
    "from sklearn.metrics import accuracy_score\n",
    "from sklearn.metrics import f1_score\n",
    "from sklearn.metrics import confusion_matrix\n",
    "accuracy = print('Accuracy score of the  model is ',accuracy_score(y, predictions))\n",
    "print('F1 Score of the model is ',f1_score(y, predictions))\n",
    "confusion_matrix(y, predictions, labels = [1, 0])"
   ]
  },
  {
   "cell_type": "code",
   "execution_count": null,
   "metadata": {},
   "outputs": [],
   "source": []
  }
 ],
 "metadata": {
  "colab": {
   "authorship_tag": "ABX9TyPxBeuJwyIclCCrqPJwjKXc",
   "provenance": []
  },
  "kernelspec": {
   "display_name": "llm_training",
   "language": "python",
   "name": "python3"
  },
  "language_info": {
   "codemirror_mode": {
    "name": "ipython",
    "version": 3
   },
   "file_extension": ".py",
   "mimetype": "text/x-python",
   "name": "python",
   "nbconvert_exporter": "python",
   "pygments_lexer": "ipython3",
   "version": "3.13.3"
  }
 },
 "nbformat": 4,
 "nbformat_minor": 0
}
