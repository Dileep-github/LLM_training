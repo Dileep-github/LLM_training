{
 "cells": [
  {
   "cell_type": "markdown",
   "id": "7933c0fd",
   "metadata": {},
   "source": [
    "# Feedforward Neural Network with Backpropagation\n",
    "This notebook demonstrates a simple feedforward neural network built from scratch using NumPy. It includes forward propagation, loss calculation, backpropagation, and weight updates. Mathematical expressions are provided in LaTeX for clarity."
   ]
  },
  {
   "cell_type": "code",
   "execution_count": 10,
   "id": "cfe78c15",
   "metadata": {},
   "outputs": [],
   "source": [
    "import numpy as np\n",
    "import matplotlib.pyplot as plt\n",
    "from rich import print\n",
    "np.random.seed(1)"
   ]
  },
  {
   "cell_type": "markdown",
   "id": "239ed8e6",
   "metadata": {},
   "source": [
    "## Step 1: Setup Input and Output"
   ]
  },
  {
   "cell_type": "code",
   "execution_count": 4,
   "id": "bfb1a249",
   "metadata": {},
   "outputs": [],
   "source": [
    "X = np.array([[0, 0], [0, 1], [1, 0], [1, 1]])\n",
    "Y = np.array([[0], [1], [1], [0]])"
   ]
  },
  {
   "cell_type": "markdown",
   "id": "f2e96b66",
   "metadata": {},
   "source": [
    "## Step 2: Activation Function and its Derivative\n",
    "\n",
    "We use the sigmoid function:\n",
    "\n",
    "$$\n",
    "\\sigma(z) = \\frac{1}{1 + e^{-z}}\n",
    "$$\n",
    "\n",
    "And its derivative:\n",
    "\n",
    "$$\n",
    "\\sigma'(a) = a(1 - a)\n",
    "$$"
   ]
  },
  {
   "cell_type": "code",
   "execution_count": 5,
   "id": "37d7c48c",
   "metadata": {},
   "outputs": [],
   "source": [
    "def sigmoid(z):\n",
    "    return 1 / (1 + np.exp(-z))\n",
    "\n",
    "def sigmoid_derivative(a):\n",
    "    return a * (1 - a)"
   ]
  },
  {
   "cell_type": "markdown",
   "id": "43b123fd",
   "metadata": {},
   "source": [
    "## Step 3: Initialize Parameters"
   ]
  },
  {
   "cell_type": "code",
   "execution_count": 6,
   "id": "e3797bf3",
   "metadata": {},
   "outputs": [],
   "source": [
    "input_dim = 2\n",
    "hidden_dim = 4\n",
    "output_dim = 1\n",
    "\n",
    "W1 = np.random.randn(input_dim, hidden_dim)\n",
    "b1 = np.zeros((1, hidden_dim))\n",
    "W2 = np.random.randn(hidden_dim, output_dim)\n",
    "b2 = np.zeros((1, output_dim))"
   ]
  },
  {
   "cell_type": "code",
   "execution_count": 8,
   "id": "8b7b5151",
   "metadata": {},
   "outputs": [
    {
     "data": {
      "text/plain": [
       "array([[0., 0., 0., 0.]])"
      ]
     },
     "execution_count": 8,
     "metadata": {},
     "output_type": "execute_result"
    }
   ],
   "source": [
    "b1"
   ]
  },
  {
   "cell_type": "markdown",
   "id": "2fce7df7",
   "metadata": {},
   "source": [
    "## Step 4: Forward Propagation\n",
    "\n",
    "Compute the activations:\n",
    "\n",
    "$$\n",
    "Z^{[1]} = XW^{[1]} + b^{[1]} \\\\\n",
    "A^{[1]} = \\sigma(Z^{[1]}) \\\\\n",
    "Z^{[2]} = A^{[1]}W^{[2]} + b^{[2]} \\\\\n",
    "A^{[2]} = \\sigma(Z^{[2]})\n",
    "$$"
   ]
  },
  {
   "cell_type": "code",
   "execution_count": 11,
   "id": "1ce61c12",
   "metadata": {},
   "outputs": [
    {
     "data": {
      "text/html": [
       "<pre style=\"white-space:pre;overflow-x:auto;line-height:normal;font-family:Menlo,'DejaVu Sans Mono',consolas,'Courier New',monospace\">Output after forward pass:\n",
       " <span style=\"font-weight: bold\">[[</span><span style=\"color: #008080; text-decoration-color: #008080; font-weight: bold\">0.43433595</span><span style=\"font-weight: bold\">]</span>\n",
       " <span style=\"font-weight: bold\">[</span><span style=\"color: #008080; text-decoration-color: #008080; font-weight: bold\">0.68796372</span><span style=\"font-weight: bold\">]</span>\n",
       " <span style=\"font-weight: bold\">[</span><span style=\"color: #008080; text-decoration-color: #008080; font-weight: bold\">0.54888958</span><span style=\"font-weight: bold\">]</span>\n",
       " <span style=\"font-weight: bold\">[</span><span style=\"color: #008080; text-decoration-color: #008080; font-weight: bold\">0.75509485</span><span style=\"font-weight: bold\">]]</span>\n",
       "</pre>\n"
      ],
      "text/plain": [
       "Output after forward pass:\n",
       " \u001b[1m[\u001b[0m\u001b[1m[\u001b[0m\u001b[1;36m0.43433595\u001b[0m\u001b[1m]\u001b[0m\n",
       " \u001b[1m[\u001b[0m\u001b[1;36m0.68796372\u001b[0m\u001b[1m]\u001b[0m\n",
       " \u001b[1m[\u001b[0m\u001b[1;36m0.54888958\u001b[0m\u001b[1m]\u001b[0m\n",
       " \u001b[1m[\u001b[0m\u001b[1;36m0.75509485\u001b[0m\u001b[1m]\u001b[0m\u001b[1m]\u001b[0m\n"
      ]
     },
     "metadata": {},
     "output_type": "display_data"
    }
   ],
   "source": [
    "Z1 = np.dot(X, W1) + b1\n",
    "A1 = sigmoid(Z1)\n",
    "Z2 = np.dot(A1, W2) + b2\n",
    "A2 = sigmoid(Z2)\n",
    "\n",
    "print(\"Output after forward pass:\\n\", A2)"
   ]
  },
  {
   "cell_type": "markdown",
   "id": "8e40b12e",
   "metadata": {},
   "source": [
    "## Step 5: Compute Loss\n",
    "\n",
    "Binary cross-entropy loss:\n",
    "\n",
    "$$\n",
    "\\mathcal{L} = - \\frac{1}{m} \\sum \\left[Y \\log(A^{[2]}) + (1 - Y) \\log(1 - A^{[2]})\\right]\n",
    "$$"
   ]
  },
  {
   "cell_type": "code",
   "execution_count": 12,
   "id": "09e83601",
   "metadata": {},
   "outputs": [
    {
     "data": {
      "text/html": [
       "<pre style=\"white-space:pre;overflow-x:auto;line-height:normal;font-family:Menlo,'DejaVu Sans Mono',consolas,'Courier New',monospace\">Initial Loss: <span style=\"color: #008080; text-decoration-color: #008080; font-weight: bold\">0.737629097060664</span>\n",
       "</pre>\n"
      ],
      "text/plain": [
       "Initial Loss: \u001b[1;36m0.737629097060664\u001b[0m\n"
      ]
     },
     "metadata": {},
     "output_type": "display_data"
    }
   ],
   "source": [
    "m = Y.shape[0]\n",
    "loss = -np.mean(Y * np.log(A2) + (1 - Y) * np.log(1 - A2))\n",
    "print(\"Initial Loss:\", loss)"
   ]
  },
  {
   "cell_type": "markdown",
   "id": "62ff9791",
   "metadata": {},
   "source": [
    "## Step 6: Backpropagation\n",
    "\n",
    "Gradients for output and hidden layers:\n",
    "\n",
    "$$\n",
    "dZ^{[2]} = A^{[2]} - Y \\\\\n",
    "dW^{[2]} = \\frac{1}{m} A^{[1]T} dZ^{[2]} \\\\\n",
    "db^{[2]} = \\frac{1}{m} \\sum dZ^{[2]} \\\\\n",
    "dA^{[1]} = dZ^{[2]} W^{[2]T} \\\\\n",
    "dZ^{[1]} = dA^{[1]} * \\sigma'(Z^{[1]}) \\\\\n",
    "dW^{[1]} = \\frac{1}{m} X^T dZ^{[1]} \\\\\n",
    "db^{[1]} = \\frac{1}{m} \\sum dZ^{[1]}\n",
    "$$"
   ]
  },
  {
   "cell_type": "code",
   "execution_count": 13,
   "id": "00d02fec",
   "metadata": {},
   "outputs": [],
   "source": [
    "dZ2 = A2 - Y\n",
    "dW2 = (1/m) * np.dot(A1.T, dZ2)\n",
    "db2 = (1/m) * np.sum(dZ2, axis=0, keepdims=True)\n",
    "\n",
    "dA1 = np.dot(dZ2, W2.T)\n",
    "dZ1 = dA1 * sigmoid_derivative(A1)\n",
    "dW1 = (1/m) * np.dot(X.T, dZ1)\n",
    "db1 = (1/m) * np.sum(dZ1, axis=0, keepdims=True)"
   ]
  },
  {
   "cell_type": "markdown",
   "id": "19eecabd",
   "metadata": {},
   "source": [
    "## Step 7: Update Parameters"
   ]
  },
  {
   "cell_type": "code",
   "execution_count": 14,
   "id": "81ec6a5b",
   "metadata": {},
   "outputs": [],
   "source": [
    "learning_rate = 0.1\n",
    "\n",
    "W1 -= learning_rate * dW1\n",
    "b1 -= learning_rate * db1\n",
    "W2 -= learning_rate * dW2\n",
    "b2 -= learning_rate * db2"
   ]
  },
  {
   "cell_type": "markdown",
   "id": "4744fb81",
   "metadata": {},
   "source": [
    "## Step 8: Full Training Loop"
   ]
  },
  {
   "cell_type": "code",
   "execution_count": 15,
   "id": "5ce6edd1",
   "metadata": {},
   "outputs": [
    {
     "data": {
      "text/html": [
       "<pre style=\"white-space:pre;overflow-x:auto;line-height:normal;font-family:Menlo,'DejaVu Sans Mono',consolas,'Courier New',monospace\">Iteration <span style=\"color: #008080; text-decoration-color: #008080; font-weight: bold\">0</span>: Loss = <span style=\"color: #008080; text-decoration-color: #008080; font-weight: bold\">0.7347</span>\n",
       "</pre>\n"
      ],
      "text/plain": [
       "Iteration \u001b[1;36m0\u001b[0m: Loss = \u001b[1;36m0.7347\u001b[0m\n"
      ]
     },
     "metadata": {},
     "output_type": "display_data"
    },
    {
     "data": {
      "text/html": [
       "<pre style=\"white-space:pre;overflow-x:auto;line-height:normal;font-family:Menlo,'DejaVu Sans Mono',consolas,'Courier New',monospace\">Iteration <span style=\"color: #008080; text-decoration-color: #008080; font-weight: bold\">1000</span>: Loss = <span style=\"color: #008080; text-decoration-color: #008080; font-weight: bold\">0.5765</span>\n",
       "</pre>\n"
      ],
      "text/plain": [
       "Iteration \u001b[1;36m1000\u001b[0m: Loss = \u001b[1;36m0.5765\u001b[0m\n"
      ]
     },
     "metadata": {},
     "output_type": "display_data"
    },
    {
     "data": {
      "text/html": [
       "<pre style=\"white-space:pre;overflow-x:auto;line-height:normal;font-family:Menlo,'DejaVu Sans Mono',consolas,'Courier New',monospace\">Iteration <span style=\"color: #008080; text-decoration-color: #008080; font-weight: bold\">2000</span>: Loss = <span style=\"color: #008080; text-decoration-color: #008080; font-weight: bold\">0.4041</span>\n",
       "</pre>\n"
      ],
      "text/plain": [
       "Iteration \u001b[1;36m2000\u001b[0m: Loss = \u001b[1;36m0.4041\u001b[0m\n"
      ]
     },
     "metadata": {},
     "output_type": "display_data"
    },
    {
     "data": {
      "text/html": [
       "<pre style=\"white-space:pre;overflow-x:auto;line-height:normal;font-family:Menlo,'DejaVu Sans Mono',consolas,'Courier New',monospace\">Iteration <span style=\"color: #008080; text-decoration-color: #008080; font-weight: bold\">3000</span>: Loss = <span style=\"color: #008080; text-decoration-color: #008080; font-weight: bold\">0.1683</span>\n",
       "</pre>\n"
      ],
      "text/plain": [
       "Iteration \u001b[1;36m3000\u001b[0m: Loss = \u001b[1;36m0.1683\u001b[0m\n"
      ]
     },
     "metadata": {},
     "output_type": "display_data"
    },
    {
     "data": {
      "text/html": [
       "<pre style=\"white-space:pre;overflow-x:auto;line-height:normal;font-family:Menlo,'DejaVu Sans Mono',consolas,'Courier New',monospace\">Iteration <span style=\"color: #008080; text-decoration-color: #008080; font-weight: bold\">4000</span>: Loss = <span style=\"color: #008080; text-decoration-color: #008080; font-weight: bold\">0.0800</span>\n",
       "</pre>\n"
      ],
      "text/plain": [
       "Iteration \u001b[1;36m4000\u001b[0m: Loss = \u001b[1;36m0.0800\u001b[0m\n"
      ]
     },
     "metadata": {},
     "output_type": "display_data"
    },
    {
     "data": {
      "text/html": [
       "<pre style=\"white-space:pre;overflow-x:auto;line-height:normal;font-family:Menlo,'DejaVu Sans Mono',consolas,'Courier New',monospace\">Iteration <span style=\"color: #008080; text-decoration-color: #008080; font-weight: bold\">5000</span>: Loss = <span style=\"color: #008080; text-decoration-color: #008080; font-weight: bold\">0.0475</span>\n",
       "</pre>\n"
      ],
      "text/plain": [
       "Iteration \u001b[1;36m5000\u001b[0m: Loss = \u001b[1;36m0.0475\u001b[0m\n"
      ]
     },
     "metadata": {},
     "output_type": "display_data"
    },
    {
     "data": {
      "text/html": [
       "<pre style=\"white-space:pre;overflow-x:auto;line-height:normal;font-family:Menlo,'DejaVu Sans Mono',consolas,'Courier New',monospace\">Iteration <span style=\"color: #008080; text-decoration-color: #008080; font-weight: bold\">6000</span>: Loss = <span style=\"color: #008080; text-decoration-color: #008080; font-weight: bold\">0.0324</span>\n",
       "</pre>\n"
      ],
      "text/plain": [
       "Iteration \u001b[1;36m6000\u001b[0m: Loss = \u001b[1;36m0.0324\u001b[0m\n"
      ]
     },
     "metadata": {},
     "output_type": "display_data"
    },
    {
     "data": {
      "text/html": [
       "<pre style=\"white-space:pre;overflow-x:auto;line-height:normal;font-family:Menlo,'DejaVu Sans Mono',consolas,'Courier New',monospace\">Iteration <span style=\"color: #008080; text-decoration-color: #008080; font-weight: bold\">7000</span>: Loss = <span style=\"color: #008080; text-decoration-color: #008080; font-weight: bold\">0.0241</span>\n",
       "</pre>\n"
      ],
      "text/plain": [
       "Iteration \u001b[1;36m7000\u001b[0m: Loss = \u001b[1;36m0.0241\u001b[0m\n"
      ]
     },
     "metadata": {},
     "output_type": "display_data"
    },
    {
     "data": {
      "text/html": [
       "<pre style=\"white-space:pre;overflow-x:auto;line-height:normal;font-family:Menlo,'DejaVu Sans Mono',consolas,'Courier New',monospace\">Iteration <span style=\"color: #008080; text-decoration-color: #008080; font-weight: bold\">8000</span>: Loss = <span style=\"color: #008080; text-decoration-color: #008080; font-weight: bold\">0.0190</span>\n",
       "</pre>\n"
      ],
      "text/plain": [
       "Iteration \u001b[1;36m8000\u001b[0m: Loss = \u001b[1;36m0.0190\u001b[0m\n"
      ]
     },
     "metadata": {},
     "output_type": "display_data"
    },
    {
     "data": {
      "text/html": [
       "<pre style=\"white-space:pre;overflow-x:auto;line-height:normal;font-family:Menlo,'DejaVu Sans Mono',consolas,'Courier New',monospace\">Iteration <span style=\"color: #008080; text-decoration-color: #008080; font-weight: bold\">9000</span>: Loss = <span style=\"color: #008080; text-decoration-color: #008080; font-weight: bold\">0.0155</span>\n",
       "</pre>\n"
      ],
      "text/plain": [
       "Iteration \u001b[1;36m9000\u001b[0m: Loss = \u001b[1;36m0.0155\u001b[0m\n"
      ]
     },
     "metadata": {},
     "output_type": "display_data"
    }
   ],
   "source": [
    "\n",
    "losses = []\n",
    "for i in range(10000):\n",
    "    Z1 = np.dot(X, W1) + b1\n",
    "    A1 = sigmoid(Z1)\n",
    "    Z2 = np.dot(A1, W2) + b2\n",
    "    A2 = sigmoid(Z2)\n",
    "    loss = -np.mean(Y * np.log(A2) + (1 - Y) * np.log(1 - A2))\n",
    "    losses.append(loss)\n",
    "\n",
    "    dZ2 = A2 - Y\n",
    "    dW2 = (1/m) * np.dot(A1.T, dZ2)\n",
    "    db2 = (1/m) * np.sum(dZ2, axis=0, keepdims=True)\n",
    "\n",
    "    dA1 = np.dot(dZ2, W2.T)\n",
    "    dZ1 = dA1 * sigmoid_derivative(A1)\n",
    "    dW1 = (1/m) * np.dot(X.T, dZ1)\n",
    "    db1 = (1/m) * np.sum(dZ1, axis=0, keepdims=True)\n",
    "\n",
    "    W1 -= learning_rate * dW1\n",
    "    b1 -= learning_rate * db1\n",
    "    W2 -= learning_rate * dW2\n",
    "    b2 -= learning_rate * db2\n",
    "\n",
    "    if i % 1000 == 0:\n",
    "        print(f\"Iteration {i}: Loss = {loss:.4f}\")\n"
   ]
  },
  {
   "cell_type": "markdown",
   "id": "07f5f9bb",
   "metadata": {},
   "source": [
    "## Step 9: Final Prediction"
   ]
  },
  {
   "cell_type": "code",
   "execution_count": 16,
   "id": "d0a85453",
   "metadata": {},
   "outputs": [
    {
     "data": {
      "text/html": [
       "<pre style=\"white-space:pre;overflow-x:auto;line-height:normal;font-family:Menlo,'DejaVu Sans Mono',consolas,'Courier New',monospace\">Final Predictions:\n",
       " <span style=\"font-weight: bold\">[[</span><span style=\"color: #008080; text-decoration-color: #008080; font-weight: bold\">0</span>.<span style=\"font-weight: bold\">]</span>\n",
       " <span style=\"font-weight: bold\">[</span><span style=\"color: #008080; text-decoration-color: #008080; font-weight: bold\">1</span>.<span style=\"font-weight: bold\">]</span>\n",
       " <span style=\"font-weight: bold\">[</span><span style=\"color: #008080; text-decoration-color: #008080; font-weight: bold\">1</span>.<span style=\"font-weight: bold\">]</span>\n",
       " <span style=\"font-weight: bold\">[</span><span style=\"color: #008080; text-decoration-color: #008080; font-weight: bold\">0</span>.<span style=\"font-weight: bold\">]]</span>\n",
       "</pre>\n"
      ],
      "text/plain": [
       "Final Predictions:\n",
       " \u001b[1m[\u001b[0m\u001b[1m[\u001b[0m\u001b[1;36m0\u001b[0m.\u001b[1m]\u001b[0m\n",
       " \u001b[1m[\u001b[0m\u001b[1;36m1\u001b[0m.\u001b[1m]\u001b[0m\n",
       " \u001b[1m[\u001b[0m\u001b[1;36m1\u001b[0m.\u001b[1m]\u001b[0m\n",
       " \u001b[1m[\u001b[0m\u001b[1;36m0\u001b[0m.\u001b[1m]\u001b[0m\u001b[1m]\u001b[0m\n"
      ]
     },
     "metadata": {},
     "output_type": "display_data"
    }
   ],
   "source": [
    "print(\"Final Predictions:\\n\", A2.round())"
   ]
  },
  {
   "cell_type": "markdown",
   "id": "bdbd2308",
   "metadata": {},
   "source": [
    "## Step 10: Loss Visualization"
   ]
  },
  {
   "cell_type": "code",
   "execution_count": 17,
   "id": "6c1ccf63",
   "metadata": {},
   "outputs": [
    {
     "data": {
      "image/png": "[encoded data removed]",
      "text/plain": [
       "<Figure size 640x480 with 1 Axes>"
      ]
     },
     "metadata": {},
     "output_type": "display_data"
    }
   ],
   "source": [
    "plt.plot(losses)\n",
    "plt.title('Loss over iterations')\n",
    "plt.xlabel('Iteration')\n",
    "plt.ylabel('Loss')\n",
    "plt.grid(True)\n",
    "plt.show()"
   ]
  },
  {
   "cell_type": "markdown",
   "id": "887a0efb",
   "metadata": {},
   "source": [
    "### 🧮 Backpropagation Derivative Summary with Explanations\n",
    "\n",
    "| **Quantity** | **Meaning** | **Derived From** | **How It’s Computed** | **Why This Formula? (Explanation)** |\n",
    "|--------------|-------------|------------------|------------------------|-------------------------------------|\n",
    "| `dZ2` | Error at output layer | $\\mathcal{L} = - \\frac{1}{m} \\sum \\left[Y \\log(A^{[2]}) + (1 - Y) \\log(1 - A^{[2]})\\right]$ | `A2 - Y` | From the chain rule applied to sigmoid + binary cross-entropy: <br> $\\frac{\\partial \\mathcal{L}}{\\partial Z^{[2]}} = A^{[2]} - Y$. This is a well-known simplification when using sigmoid + BCE. |\n",
    "| `dW2` | Gradient w.r.t. weights from hidden to output | $Z^{[2]} = A^{[1]} \\cdot W^{[2]} + b^{[2]}$ | `(1/m) * A1.T @ dZ2` | Use chain rule: $\\frac{\\partial \\mathcal{L}}{\\partial W^{[2]}} = \\frac{1}{m} A^{[1]^T} \\cdot dZ^{[2]}$ |\n",
    "| `db2` | Gradient w.r.t. bias at output | $Z^{[2]} = A^{[1]} \\cdot W^{[2]} + b^{[2]}$ | `(1/m) * np.sum(dZ2, axis=0, keepdims=True)` | $\\frac{\\partial \\mathcal{L}}{\\partial b^{[2]}} = \\frac{1}{m} \\sum dZ^{[2]}$ since $\\partial Z / \\partial b = 1$ |\n",
    "| `dA1` | Backpropagated error to hidden layer | $Z^{[2]} = A^{[1]} \\cdot W^{[2]} + b^{[2]}$ | `dZ2 @ W2.T` | $\\frac{\\partial \\mathcal{L}}{\\partial A^{[1]}} = dZ^{[2]} \\cdot W^{[2]^T}$ — how the loss affects the previous layer |\n",
    "| `dZ1` | Error at hidden layer | $A^{[1]} = \\sigma(Z^{[1]})$ | `dA1 * sigmoid_derivative(A1)` | Chain rule: $\\frac{\\partial \\mathcal{L}}{\\partial Z^{[1]}} = \\frac{\\partial \\mathcal{L}}{\\partial A^{[1]}} \\cdot \\frac{dA^{[1]}}{dZ^{[1]}}$ with sigmoid derivative: $A^{[1]}(1 - A^{[1]})$ |\n",
    "| `dW1` | Gradient w.r.t. input-to-hidden weights | $Z^{[1]} = X \\cdot W^{[1]} + b^{[1]}$ | `(1/m) * X.T @ dZ1` | $\\frac{\\partial \\mathcal{L}}{\\partial W^{[1]}} = \\frac{1}{m} X^T \\cdot dZ^{[1]}$ |\n",
    "| `db1` | Gradient w.r.t. hidden layer bias | $Z^{[1]} = X \\cdot W^{[1]} + b^{[1]}$ | `(1/m) * np.sum(dZ1, axis=0, keepdims=True)` | $\\frac{\\partial \\mathcal{L}}{\\partial b^{[1]}} = \\frac{1}{m} \\sum dZ^{[1]}$ |"
   ]
  },
  {
   "cell_type": "markdown",
   "id": "625a085f",
   "metadata": {},
   "source": []
  }
 ],
 "metadata": {
  "kernelspec": {
   "display_name": "llm_training",
   "language": "python",
   "name": "python3"
  },
  "language_info": {
   "codemirror_mode": {
    "name": "ipython",
    "version": 3
   },
   "file_extension": ".py",
   "mimetype": "text/x-python",
   "name": "python",
   "nbconvert_exporter": "python",
   "pygments_lexer": "ipython3",
   "version": "3.13.3"
  }
 },
 "nbformat": 4,
 "nbformat_minor": 5
}
