{
 "cells": [
  {
   "cell_type": "code",
   "execution_count": 28,
   "id": "d5e5b2ab",
   "metadata": {},
   "outputs": [],
   "source": [
    "from sklearn.datasets import fetch_california_housing\n",
    "from sklearn.model_selection import train_test_split\n",
    "from sklearn.linear_model import LinearRegression,Ridge,Lasso\n",
    "from sklearn.metrics import mean_squared_error, r2_score\n",
    "from sklearn.model_selection import GridSearchCV\n",
    "import pandas as pd\n",
    "import numpy as np\n",
    "import matplotlib.pyplot as plt\n",
    "from rich import print\n",
    "from scipy.stats import zscore\n",
    "# Print results without exponential notation\n",
    "np.set_printoptions(suppress=True)  # Suppress scientific notation for numpy arrays\n",
    "pd.options.display.float_format = '{:.6f}'.format  # Set pandas float format"
   ]
  },
  {
   "cell_type": "markdown",
   "id": "cc2703e8",
   "metadata": {},
   "source": [
    "https://github.com/WanQi-K/DataSciencePortfolio/blob/main/California%20Housing%20Linear%20Regression/California_Housing_Linear_Regression_(More_Data).ipynb"
   ]
  },
  {
   "cell_type": "code",
   "execution_count": 2,
   "id": "8e3e2722",
   "metadata": {},
   "outputs": [],
   "source": [
    "housing = fetch_california_housing()"
   ]
  },
  {
   "cell_type": "code",
   "execution_count": 3,
   "id": "4905293c",
   "metadata": {},
   "outputs": [],
   "source": [
    "df_housing = pd.DataFrame(housing.data, columns=housing.feature_names)\n",
    "df_housing['Target'] = housing.target"
   ]
  },
  {
   "cell_type": "code",
   "execution_count": 4,
   "id": "885702a9",
   "metadata": {},
   "outputs": [
    {
     "data": {
      "application/vnd.microsoft.datawrangler.viewer.v0+json": {
       "columns": [
        {
         "name": "index",
         "rawType": "int64",
         "type": "integer"
        },
        {
         "name": "MedInc",
         "rawType": "float64",
         "type": "float"
        },
        {
         "name": "HouseAge",
         "rawType": "float64",
         "type": "float"
        },
        {
         "name": "AveRooms",
         "rawType": "float64",
         "type": "float"
        },
        {
         "name": "AveBedrms",
         "rawType": "float64",
         "type": "float"
        },
        {
         "name": "Population",
         "rawType": "float64",
         "type": "float"
        },
        {
         "name": "AveOccup",
         "rawType": "float64",
         "type": "float"
        },
        {
         "name": "Latitude",
         "rawType": "float64",
         "type": "float"
        },
        {
         "name": "Longitude",
         "rawType": "float64",
         "type": "float"
        },
        {
         "name": "Target",
         "rawType": "float64",
         "type": "float"
        }
       ],
       "conversionMethod": "pd.DataFrame",
       "ref": "df93e8ff-0916-4271-9f69-f7d3f50f109d",
       "rows": [
        [
         "0",
         "8.3252",
         "41.0",
         "6.984126984126984",
         "1.0238095238095237",
         "322.0",
         "2.5555555555555554",
         "37.88",
         "-122.23",
         "4.526"
        ],
        [
         "1",
         "8.3014",
         "21.0",
         "6.238137082601054",
         "0.9718804920913884",
         "2401.0",
         "2.109841827768014",
         "37.86",
         "-122.22",
         "3.585"
        ],
        [
         "2",
         "7.2574",
         "52.0",
         "8.288135593220339",
         "1.073446327683616",
         "496.0",
         "2.8022598870056497",
         "37.85",
         "-122.24",
         "3.521"
        ],
        [
         "3",
         "5.6431",
         "52.0",
         "5.8173515981735155",
         "1.0730593607305936",
         "558.0",
         "2.547945205479452",
         "37.85",
         "-122.25",
         "3.413"
        ],
        [
         "4",
         "3.8462",
         "52.0",
         "6.281853281853282",
         "1.0810810810810811",
         "565.0",
         "2.1814671814671813",
         "37.85",
         "-122.25",
         "3.422"
        ],
        [
         "5",
         "4.0368",
         "52.0",
         "4.761658031088083",
         "1.1036269430051813",
         "413.0",
         "2.139896373056995",
         "37.85",
         "-122.25",
         "2.697"
        ],
        [
         "6",
         "3.6591",
         "52.0",
         "4.9319066147859925",
         "0.9513618677042801",
         "1094.0",
         "2.1284046692607004",
         "37.84",
         "-122.25",
         "2.992"
        ],
        [
         "7",
         "3.12",
         "52.0",
         "4.797527047913447",
         "1.061823802163833",
         "1157.0",
         "1.7882534775888717",
         "37.84",
         "-122.25",
         "2.414"
        ],
        [
         "8",
         "2.0804",
         "42.0",
         "4.294117647058823",
         "1.1176470588235294",
         "1206.0",
         "2.026890756302521",
         "37.84",
         "-122.26",
         "2.267"
        ],
        [
         "9",
         "3.6912",
         "52.0",
         "4.970588235294118",
         "0.9901960784313726",
         "1551.0",
         "2.172268907563025",
         "37.84",
         "-122.25",
         "2.611"
        ],
        [
         "10",
         "3.2031",
         "52.0",
         "5.477611940298507",
         "1.0796019900497513",
         "910.0",
         "2.263681592039801",
         "37.85",
         "-122.26",
         "2.815"
        ],
        [
         "11",
         "3.2705",
         "52.0",
         "4.772479564032698",
         "1.0245231607629428",
         "1504.0",
         "2.0490463215258856",
         "37.85",
         "-122.26",
         "2.418"
        ],
        [
         "12",
         "3.075",
         "52.0",
         "5.322649572649572",
         "1.0128205128205128",
         "1098.0",
         "2.3461538461538463",
         "37.85",
         "-122.26",
         "2.135"
        ],
        [
         "13",
         "2.6736",
         "52.0",
         "4.0",
         "1.0977011494252873",
         "345.0",
         "1.9827586206896552",
         "37.84",
         "-122.26",
         "1.913"
        ],
        [
         "14",
         "1.9167",
         "52.0",
         "4.262903225806451",
         "1.0096774193548388",
         "1212.0",
         "1.9548387096774194",
         "37.85",
         "-122.26",
         "1.592"
        ],
        [
         "15",
         "2.125",
         "50.0",
         "4.242424242424242",
         "1.071969696969697",
         "697.0",
         "2.640151515151515",
         "37.85",
         "-122.26",
         "1.4"
        ],
        [
         "16",
         "2.775",
         "52.0",
         "5.9395770392749245",
         "1.0483383685800605",
         "793.0",
         "2.395770392749245",
         "37.85",
         "-122.27",
         "1.525"
        ],
        [
         "17",
         "2.1202",
         "52.0",
         "4.052805280528053",
         "0.966996699669967",
         "648.0",
         "2.1386138613861387",
         "37.85",
         "-122.27",
         "1.555"
        ],
        [
         "18",
         "1.9911",
         "50.0",
         "5.343675417661098",
         "1.0859188544152745",
         "990.0",
         "2.3627684964200477",
         "37.84",
         "-122.26",
         "1.587"
        ],
        [
         "19",
         "2.6033",
         "52.0",
         "5.465454545454546",
         "1.0836363636363637",
         "690.0",
         "2.5090909090909093",
         "37.84",
         "-122.27",
         "1.629"
        ],
        [
         "20",
         "1.3578",
         "40.0",
         "4.524096385542169",
         "1.108433734939759",
         "409.0",
         "2.463855421686747",
         "37.85",
         "-122.27",
         "1.475"
        ],
        [
         "21",
         "1.7135",
         "42.0",
         "4.478142076502732",
         "1.0027322404371584",
         "929.0",
         "2.5382513661202184",
         "37.85",
         "-122.27",
         "1.598"
        ],
        [
         "22",
         "1.725",
         "52.0",
         "5.096234309623431",
         "1.1317991631799162",
         "1015.0",
         "2.1234309623430963",
         "37.84",
         "-122.27",
         "1.139"
        ],
        [
         "23",
         "2.1806",
         "52.0",
         "5.193846153846154",
         "1.0369230769230768",
         "853.0",
         "2.624615384615385",
         "37.84",
         "-122.27",
         "0.997"
        ],
        [
         "24",
         "2.6",
         "52.0",
         "5.270142180094787",
         "1.0355450236966826",
         "1006.0",
         "2.3838862559241707",
         "37.84",
         "-122.27",
         "1.326"
        ],
        [
         "25",
         "2.4038",
         "41.0",
         "4.495798319327731",
         "1.0336134453781514",
         "317.0",
         "2.6638655462184873",
         "37.85",
         "-122.28",
         "1.075"
        ],
        [
         "26",
         "2.4597",
         "49.0",
         "4.7280334728033475",
         "1.0209205020920502",
         "607.0",
         "2.5397489539748954",
         "37.85",
         "-122.28",
         "0.938"
        ],
        [
         "27",
         "1.808",
         "52.0",
         "4.7808564231738035",
         "1.0604534005037782",
         "1102.0",
         "2.7758186397984885",
         "37.85",
         "-122.28",
         "1.055"
        ],
        [
         "28",
         "1.6424",
         "50.0",
         "4.40169133192389",
         "1.040169133192389",
         "1131.0",
         "2.3911205073995774",
         "37.84",
         "-122.28",
         "1.089"
        ],
        [
         "29",
         "1.6875",
         "52.0",
         "4.703225806451613",
         "1.032258064516129",
         "395.0",
         "2.5483870967741935",
         "37.84",
         "-122.28",
         "1.32"
        ],
        [
         "30",
         "1.9274",
         "49.0",
         "5.068783068783069",
         "1.1825396825396826",
         "863.0",
         "2.2830687830687832",
         "37.84",
         "-122.28",
         "1.223"
        ],
        [
         "31",
         "1.9615",
         "52.0",
         "4.882086167800454",
         "1.090702947845805",
         "1168.0",
         "2.6485260770975056",
         "37.84",
         "-122.28",
         "1.152"
        ],
        [
         "32",
         "1.7969",
         "48.0",
         "5.737313432835821",
         "1.2208955223880598",
         "1026.0",
         "3.062686567164179",
         "37.84",
         "-122.27",
         "1.104"
        ],
        [
         "33",
         "1.375",
         "49.0",
         "5.0303951367781155",
         "1.1124620060790273",
         "754.0",
         "2.291793313069909",
         "37.83",
         "-122.27",
         "1.049"
        ],
        [
         "34",
         "2.7303",
         "51.0",
         "4.972014925373134",
         "1.0708955223880596",
         "1258.0",
         "2.3470149253731343",
         "37.83",
         "-122.27",
         "1.097"
        ],
        [
         "35",
         "1.4861",
         "49.0",
         "4.6022727272727275",
         "1.0681818181818181",
         "570.0",
         "2.159090909090909",
         "37.83",
         "-122.27",
         "0.972"
        ],
        [
         "36",
         "1.0972",
         "48.0",
         "4.807486631016043",
         "1.1550802139037433",
         "987.0",
         "2.6390374331550803",
         "37.83",
         "-122.27",
         "1.045"
        ],
        [
         "37",
         "1.4103",
         "52.0",
         "3.7493796526054592",
         "0.967741935483871",
         "901.0",
         "2.235732009925558",
         "37.83",
         "-122.28",
         "1.039"
        ],
        [
         "38",
         "3.48",
         "52.0",
         "4.757281553398058",
         "1.0679611650485437",
         "689.0",
         "2.2297734627831716",
         "37.83",
         "-122.26",
         "1.914"
        ],
        [
         "39",
         "2.5898",
         "52.0",
         "3.4942528735632186",
         "1.0272988505747127",
         "1377.0",
         "1.978448275862069",
         "37.83",
         "-122.26",
         "1.76"
        ],
        [
         "40",
         "2.0978",
         "52.0",
         "4.215189873417722",
         "1.0607594936708862",
         "946.0",
         "2.3949367088607594",
         "37.83",
         "-122.26",
         "1.554"
        ],
        [
         "41",
         "1.2852",
         "51.0",
         "3.7590361445783134",
         "1.248995983935743",
         "517.0",
         "2.076305220883534",
         "37.83",
         "-122.26",
         "1.5"
        ],
        [
         "42",
         "1.025",
         "49.0",
         "3.7724867724867726",
         "1.0687830687830688",
         "462.0",
         "2.4444444444444446",
         "37.84",
         "-122.26",
         "1.188"
        ],
        [
         "43",
         "3.9643",
         "52.0",
         "4.797979797979798",
         "1.02020202020202",
         "467.0",
         "2.3585858585858586",
         "37.84",
         "-122.26",
         "1.888"
        ],
        [
         "44",
         "3.0125",
         "52.0",
         "4.941780821917808",
         "1.0650684931506849",
         "660.0",
         "2.26027397260274",
         "37.83",
         "-122.26",
         "1.844"
        ],
        [
         "45",
         "2.6768",
         "52.0",
         "4.335078534031414",
         "1.0994764397905759",
         "718.0",
         "1.8795811518324608",
         "37.83",
         "-122.26",
         "1.823"
        ],
        [
         "46",
         "2.026",
         "50.0",
         "3.700657894736842",
         "1.0592105263157894",
         "616.0",
         "2.026315789473684",
         "37.83",
         "-122.26",
         "1.425"
        ],
        [
         "47",
         "1.7348",
         "43.0",
         "3.9802371541501977",
         "1.233201581027668",
         "558.0",
         "2.205533596837945",
         "37.82",
         "-122.27",
         "1.375"
        ],
        [
         "48",
         "0.9506",
         "40.0",
         "3.9",
         "1.21875",
         "423.0",
         "2.64375",
         "37.82",
         "-122.26",
         "1.875"
        ],
        [
         "49",
         "1.775",
         "40.0",
         "2.6875",
         "1.0653409090909092",
         "700.0",
         "1.9886363636363635",
         "37.82",
         "-122.27",
         "1.125"
        ]
       ],
       "shape": {
        "columns": 9,
        "rows": 20640
       }
      },
      "text/html": [
       "<div>\n",
       "<style scoped>\n",
       "    .dataframe tbody tr th:only-of-type {\n",
       "        vertical-align: middle;\n",
       "    }\n",
       "\n",
       "    .dataframe tbody tr th {\n",
       "        vertical-align: top;\n",
       "    }\n",
       "\n",
       "    .dataframe thead th {\n",
       "        text-align: right;\n",
       "    }\n",
       "</style>\n",
       "<table border=\"1\" class=\"dataframe\">\n",
       "  <thead>\n",
       "    <tr style=\"text-align: right;\">\n",
       "      <th></th>\n",
       "      <th>MedInc</th>\n",
       "      <th>HouseAge</th>\n",
       "      <th>AveRooms</th>\n",
       "      <th>AveBedrms</th>\n",
       "      <th>Population</th>\n",
       "      <th>AveOccup</th>\n",
       "      <th>Latitude</th>\n",
       "      <th>Longitude</th>\n",
       "      <th>Target</th>\n",
       "    </tr>\n",
       "  </thead>\n",
       "  <tbody>\n",
       "    <tr>\n",
       "      <th>0</th>\n",
       "      <td>8.325200</td>\n",
       "      <td>41.000000</td>\n",
       "      <td>6.984127</td>\n",
       "      <td>1.023810</td>\n",
       "      <td>322.000000</td>\n",
       "      <td>2.555556</td>\n",
       "      <td>37.880000</td>\n",
       "      <td>-122.230000</td>\n",
       "      <td>4.526000</td>\n",
       "    </tr>\n",
       "    <tr>\n",
       "      <th>1</th>\n",
       "      <td>8.301400</td>\n",
       "      <td>21.000000</td>\n",
       "      <td>6.238137</td>\n",
       "      <td>0.971880</td>\n",
       "      <td>2401.000000</td>\n",
       "      <td>2.109842</td>\n",
       "      <td>37.860000</td>\n",
       "      <td>-122.220000</td>\n",
       "      <td>3.585000</td>\n",
       "    </tr>\n",
       "    <tr>\n",
       "      <th>2</th>\n",
       "      <td>7.257400</td>\n",
       "      <td>52.000000</td>\n",
       "      <td>8.288136</td>\n",
       "      <td>1.073446</td>\n",
       "      <td>496.000000</td>\n",
       "      <td>2.802260</td>\n",
       "      <td>37.850000</td>\n",
       "      <td>-122.240000</td>\n",
       "      <td>3.521000</td>\n",
       "    </tr>\n",
       "    <tr>\n",
       "      <th>3</th>\n",
       "      <td>5.643100</td>\n",
       "      <td>52.000000</td>\n",
       "      <td>5.817352</td>\n",
       "      <td>1.073059</td>\n",
       "      <td>558.000000</td>\n",
       "      <td>2.547945</td>\n",
       "      <td>37.850000</td>\n",
       "      <td>-122.250000</td>\n",
       "      <td>3.413000</td>\n",
       "    </tr>\n",
       "    <tr>\n",
       "      <th>4</th>\n",
       "      <td>3.846200</td>\n",
       "      <td>52.000000</td>\n",
       "      <td>6.281853</td>\n",
       "      <td>1.081081</td>\n",
       "      <td>565.000000</td>\n",
       "      <td>2.181467</td>\n",
       "      <td>37.850000</td>\n",
       "      <td>-122.250000</td>\n",
       "      <td>3.422000</td>\n",
       "    </tr>\n",
       "    <tr>\n",
       "      <th>...</th>\n",
       "      <td>...</td>\n",
       "      <td>...</td>\n",
       "      <td>...</td>\n",
       "      <td>...</td>\n",
       "      <td>...</td>\n",
       "      <td>...</td>\n",
       "      <td>...</td>\n",
       "      <td>...</td>\n",
       "      <td>...</td>\n",
       "    </tr>\n",
       "    <tr>\n",
       "      <th>20635</th>\n",
       "      <td>1.560300</td>\n",
       "      <td>25.000000</td>\n",
       "      <td>5.045455</td>\n",
       "      <td>1.133333</td>\n",
       "      <td>845.000000</td>\n",
       "      <td>2.560606</td>\n",
       "      <td>39.480000</td>\n",
       "      <td>-121.090000</td>\n",
       "      <td>0.781000</td>\n",
       "    </tr>\n",
       "    <tr>\n",
       "      <th>20636</th>\n",
       "      <td>2.556800</td>\n",
       "      <td>18.000000</td>\n",
       "      <td>6.114035</td>\n",
       "      <td>1.315789</td>\n",
       "      <td>356.000000</td>\n",
       "      <td>3.122807</td>\n",
       "      <td>39.490000</td>\n",
       "      <td>-121.210000</td>\n",
       "      <td>0.771000</td>\n",
       "    </tr>\n",
       "    <tr>\n",
       "      <th>20637</th>\n",
       "      <td>1.700000</td>\n",
       "      <td>17.000000</td>\n",
       "      <td>5.205543</td>\n",
       "      <td>1.120092</td>\n",
       "      <td>1007.000000</td>\n",
       "      <td>2.325635</td>\n",
       "      <td>39.430000</td>\n",
       "      <td>-121.220000</td>\n",
       "      <td>0.923000</td>\n",
       "    </tr>\n",
       "    <tr>\n",
       "      <th>20638</th>\n",
       "      <td>1.867200</td>\n",
       "      <td>18.000000</td>\n",
       "      <td>5.329513</td>\n",
       "      <td>1.171920</td>\n",
       "      <td>741.000000</td>\n",
       "      <td>2.123209</td>\n",
       "      <td>39.430000</td>\n",
       "      <td>-121.320000</td>\n",
       "      <td>0.847000</td>\n",
       "    </tr>\n",
       "    <tr>\n",
       "      <th>20639</th>\n",
       "      <td>2.388600</td>\n",
       "      <td>16.000000</td>\n",
       "      <td>5.254717</td>\n",
       "      <td>1.162264</td>\n",
       "      <td>1387.000000</td>\n",
       "      <td>2.616981</td>\n",
       "      <td>39.370000</td>\n",
       "      <td>-121.240000</td>\n",
       "      <td>0.894000</td>\n",
       "    </tr>\n",
       "  </tbody>\n",
       "</table>\n",
       "<p>20640 rows × 9 columns</p>\n",
       "</div>"
      ],
      "text/plain": [
       "        MedInc  HouseAge  AveRooms  AveBedrms  Population  AveOccup  Latitude  \\\n",
       "0     8.325200 41.000000  6.984127   1.023810  322.000000  2.555556 37.880000   \n",
       "1     8.301400 21.000000  6.238137   0.971880 2401.000000  2.109842 37.860000   \n",
       "2     7.257400 52.000000  8.288136   1.073446  496.000000  2.802260 37.850000   \n",
       "3     5.643100 52.000000  5.817352   1.073059  558.000000  2.547945 37.850000   \n",
       "4     3.846200 52.000000  6.281853   1.081081  565.000000  2.181467 37.850000   \n",
       "...        ...       ...       ...        ...         ...       ...       ...   \n",
       "20635 1.560300 25.000000  5.045455   1.133333  845.000000  2.560606 39.480000   \n",
       "20636 2.556800 18.000000  6.114035   1.315789  356.000000  3.122807 39.490000   \n",
       "20637 1.700000 17.000000  5.205543   1.120092 1007.000000  2.325635 39.430000   \n",
       "20638 1.867200 18.000000  5.329513   1.171920  741.000000  2.123209 39.430000   \n",
       "20639 2.388600 16.000000  5.254717   1.162264 1387.000000  2.616981 39.370000   \n",
       "\n",
       "        Longitude   Target  \n",
       "0     -122.230000 4.526000  \n",
       "1     -122.220000 3.585000  \n",
       "2     -122.240000 3.521000  \n",
       "3     -122.250000 3.413000  \n",
       "4     -122.250000 3.422000  \n",
       "...           ...      ...  \n",
       "20635 -121.090000 0.781000  \n",
       "20636 -121.210000 0.771000  \n",
       "20637 -121.220000 0.923000  \n",
       "20638 -121.320000 0.847000  \n",
       "20639 -121.240000 0.894000  \n",
       "\n",
       "[20640 rows x 9 columns]"
      ]
     },
     "execution_count": 4,
     "metadata": {},
     "output_type": "execute_result"
    }
   ],
   "source": [
    "df_housing"
   ]
  },
  {
   "cell_type": "code",
   "execution_count": 5,
   "id": "8ca6e4e8",
   "metadata": {},
   "outputs": [],
   "source": [
    "dict_experiment_metrics={}"
   ]
  },
  {
   "cell_type": "markdown",
   "id": "240908ad",
   "metadata": {},
   "source": [
    "# Base model"
   ]
  },
  {
   "cell_type": "markdown",
   "id": "10834c86",
   "metadata": {},
   "source": []
  },
  {
   "cell_type": "code",
   "execution_count": 19,
   "id": "89bbffff",
   "metadata": {},
   "outputs": [
    {
     "data": {
      "text/html": [
       "<pre style=\"white-space:pre;overflow-x:auto;line-height:normal;font-family:Menlo,'DejaVu Sans Mono',consolas,'Courier New',monospace\">Mean Squared Error: <span style=\"color: #008080; text-decoration-color: #008080; font-weight: bold\">0.5558915986952442</span>\n",
       "</pre>\n"
      ],
      "text/plain": [
       "Mean Squared Error: \u001b[1;36m0.5558915986952442\u001b[0m\n"
      ]
     },
     "metadata": {},
     "output_type": "display_data"
    },
    {
     "data": {
      "text/html": [
       "<pre style=\"white-space:pre;overflow-x:auto;line-height:normal;font-family:Menlo,'DejaVu Sans Mono',consolas,'Courier New',monospace\">R-squared: <span style=\"color: #008080; text-decoration-color: #008080; font-weight: bold\">0.575787706032451</span>\n",
       "</pre>\n"
      ],
      "text/plain": [
       "R-squared: \u001b[1;36m0.575787706032451\u001b[0m\n"
      ]
     },
     "metadata": {},
     "output_type": "display_data"
    }
   ],
   "source": [
    "# Split the data into features (X) and target (y)\n",
    "X = df_housing.drop('Target', axis=1)\n",
    "y = df_housing['Target']\n",
    "\n",
    "# Split the dataset into training and testing sets\n",
    "X_train, X_test, y_train, y_test = train_test_split(X, y, test_size=0.2, random_state=42)\n",
    "\n",
    "# Initialize the Linear Regression model\n",
    "model = LinearRegression()\n",
    "\n",
    "# Train the model on the training data\n",
    "model.fit(X_train, y_train)\n",
    "\n",
    "# Make predictions on the test data\n",
    "y_pred = model.predict(X_test)\n",
    "\n",
    "# Evaluate the model\n",
    "mse = mean_squared_error(y_test, y_pred)\n",
    "r2 = r2_score(y_test, y_pred)\n",
    "\n",
    "print(f\"Mean Squared Error: {mse}\")\n",
    "print(f\"R-squared: {r2}\")\n",
    "dict_experiment_metrics['base']={'MSE':mse,'r2':r2}"
   ]
  },
  {
   "cell_type": "code",
   "execution_count": 8,
   "id": "3289b277",
   "metadata": {},
   "outputs": [
    {
     "data": {
      "text/plain": [
       "{'base': {'MSE': 0.5558915986952442, 'r2': 0.575787706032451}}"
      ]
     },
     "execution_count": 8,
     "metadata": {},
     "output_type": "execute_result"
    }
   ],
   "source": [
    "dict_experiment_metrics"
   ]
  },
  {
   "cell_type": "code",
   "execution_count": 14,
   "id": "5e4c30c4",
   "metadata": {},
   "outputs": [
    {
     "data": {
      "text/html": [
       "<pre style=\"white-space:pre;overflow-x:auto;line-height:normal;font-family:Menlo,'DejaVu Sans Mono',consolas,'Courier New',monospace\"><span style=\"color: #008080; text-decoration-color: #008080; font-weight: bold\">-37.02327770606436</span> <span style=\"font-weight: bold\">[</span> <span style=\"color: #008080; text-decoration-color: #008080; font-weight: bold\">0.44867491</span>  <span style=\"color: #008080; text-decoration-color: #008080; font-weight: bold\">0.00972426</span> <span style=\"color: #008080; text-decoration-color: #008080; font-weight: bold\">-0.12332334</span>  <span style=\"color: #008080; text-decoration-color: #008080; font-weight: bold\">0.78314491</span> <span style=\"color: #008080; text-decoration-color: #008080; font-weight: bold\">-0.00000203</span> <span style=\"color: #008080; text-decoration-color: #008080; font-weight: bold\">-0.00352632</span>\n",
       " <span style=\"color: #008080; text-decoration-color: #008080; font-weight: bold\">-0.41979249</span> <span style=\"color: #008080; text-decoration-color: #008080; font-weight: bold\">-0.43370806</span><span style=\"font-weight: bold\">]</span>\n",
       "</pre>\n"
      ],
      "text/plain": [
       "\u001b[1;36m-37.02327770606436\u001b[0m \u001b[1m[\u001b[0m \u001b[1;36m0.44867491\u001b[0m  \u001b[1;36m0.00972426\u001b[0m \u001b[1;36m-0.12332334\u001b[0m  \u001b[1;36m0.78314491\u001b[0m \u001b[1;36m-0.00000203\u001b[0m \u001b[1;36m-0.00352632\u001b[0m\n",
       " \u001b[1;36m-0.41979249\u001b[0m \u001b[1;36m-0.43370806\u001b[0m\u001b[1m]\u001b[0m\n"
      ]
     },
     "metadata": {},
     "output_type": "display_data"
    }
   ],
   "source": [
    "print(model.intercept_, model.coef_)"
   ]
  },
  {
   "cell_type": "markdown",
   "id": "efa0a51b",
   "metadata": {},
   "source": [
    "# Ridge regression"
   ]
  },
  {
   "cell_type": "code",
   "execution_count": 26,
   "id": "284b4d6b",
   "metadata": {},
   "outputs": [],
   "source": [
    "# Ridge Regression Model\n",
    "alpha_model_performence={}\n",
    "for alpha in [0.01,0.1,1,10,100]:\n",
    "    ridge_model = Ridge(alpha=alpha)  # You can adjust the alpha parameter for regularization strength\n",
    "\n",
    "    # Train the Ridge Regression model on the training data\n",
    "    ridge_model.fit(X_train, y_train)\n",
    "\n",
    "    # Make predictions on the test data using Ridge Regression\n",
    "    ridge_y_pred = ridge_model.predict(X_test)\n",
    "\n",
    "    # Evaluate the Ridge Regression model\n",
    "    ridge_mse = mean_squared_error(y_test, ridge_y_pred)\n",
    "    ridge_r2 = r2_score(y_test, ridge_y_pred)\n",
    "    alpha_model_performence[alpha]=ridge_mse"
   ]
  },
  {
   "cell_type": "code",
   "execution_count": 27,
   "id": "cc9823ad",
   "metadata": {},
   "outputs": [
    {
     "data": {
      "text/plain": [
       "{0.01: 0.5558907139437524,\n",
       " 0.1: 0.5558827543113806,\n",
       " 1: 0.5558034669932214,\n",
       " 10: 0.5550405537343017,\n",
       " 100: 0.5496801098676335}"
      ]
     },
     "execution_count": 27,
     "metadata": {},
     "output_type": "execute_result"
    }
   ],
   "source": [
    "alpha_model_performence"
   ]
  },
  {
   "cell_type": "code",
   "execution_count": 21,
   "id": "c934f00d",
   "metadata": {},
   "outputs": [
    {
     "data": {
      "text/html": [
       "<pre style=\"white-space:pre;overflow-x:auto;line-height:normal;font-family:Menlo,'DejaVu Sans Mono',consolas,'Courier New',monospace\">Best alpha: <span style=\"color: #008080; text-decoration-color: #008080; font-weight: bold\">10</span>\n",
       "</pre>\n"
      ],
      "text/plain": [
       "Best alpha: \u001b[1;36m10\u001b[0m\n"
      ]
     },
     "metadata": {},
     "output_type": "display_data"
    }
   ],
   "source": [
    "# Define a range of alpha values\n",
    "alpha_range = [0.01, 0.1, 1, 10, 100]\n",
    "\n",
    "# Perform Grid Search with Cross-Validation\n",
    "ridge = Ridge()\n",
    "param_grid = {'alpha': alpha_range}\n",
    "grid = GridSearchCV(ridge, param_grid, cv=5, scoring='neg_mean_squared_error')\n",
    "grid.fit(X_train, y_train)\n",
    "\n",
    "# Best alpha value\n",
    "print(f\"Best alpha: {grid.best_params_['alpha']}\")"
   ]
  },
  {
   "cell_type": "markdown",
   "id": "185a1720",
   "metadata": {},
   "source": [
    "# Lasso regression"
   ]
  },
  {
   "cell_type": "code",
   "execution_count": 29,
   "id": "989e5a27",
   "metadata": {},
   "outputs": [],
   "source": [
    "# Lasso Regression Model\n",
    "alpha_model_performence={}\n",
    "for alpha in [0.01,0.1,1,10,100]:\n",
    "    ridge_model = Lasso(alpha=alpha)  # You can adjust the alpha parameter for regularization strength\n",
    "\n",
    "    # Train the Lasso Regression model on the training data\n",
    "    ridge_model.fit(X_train, y_train)\n",
    "\n",
    "    # Make predictions on the test data using Lasso Regression\n",
    "    ridge_y_pred = ridge_model.predict(X_test)\n",
    "\n",
    "    # Evaluate the Lasso Regression model\n",
    "    Lasso_mse = mean_squared_error(y_test, ridge_y_pred)\n",
    "    Lasso_r2 = r2_score(y_test, ridge_y_pred)\n",
    "    alpha_model_performence[alpha]=ridge_mse"
   ]
  },
  {
   "cell_type": "code",
   "execution_count": 30,
   "id": "60954f5e",
   "metadata": {},
   "outputs": [
    {
     "data": {
      "text/plain": [
       "{0.01: 0.5496801098676335,\n",
       " 0.1: 0.5496801098676335,\n",
       " 1: 0.5496801098676335,\n",
       " 10: 0.5496801098676335,\n",
       " 100: 0.5496801098676335}"
      ]
     },
     "execution_count": 30,
     "metadata": {},
     "output_type": "execute_result"
    }
   ],
   "source": [
    "alpha_model_performence"
   ]
  },
  {
   "cell_type": "code",
   "execution_count": 46,
   "id": "16f97ed9",
   "metadata": {},
   "outputs": [
    {
     "data": {
      "text/html": [
       "<pre style=\"white-space:pre;overflow-x:auto;line-height:normal;font-family:Menlo,'DejaVu Sans Mono',consolas,'Courier New',monospace\">Best alpha: <span style=\"color: #008080; text-decoration-color: #008080; font-weight: bold\">0.01</span>\n",
       "</pre>\n"
      ],
      "text/plain": [
       "Best alpha: \u001b[1;36m0.01\u001b[0m\n"
      ]
     },
     "metadata": {},
     "output_type": "display_data"
    }
   ],
   "source": [
    "# Define a range of alpha values\n",
    "alpha_range = [0.01, 0.1, 1, 10, 100]\n",
    "\n",
    "# Perform Grid Search with Cross-Validation\n",
    "Lasso = Lasso()\n",
    "param_grid = {'alpha': alpha_range}\n",
    "grid = GridSearchCV(Lasso, param_grid, cv=5, scoring='neg_mean_squared_error')\n",
    "grid.fit(X_train, y_train)\n",
    "\n",
    "# Best alpha value\n",
    "print(f\"Best alpha: {grid.best_params_['alpha']}\")"
   ]
  },
  {
   "cell_type": "markdown",
   "id": "5797efe9",
   "metadata": {},
   "source": [
    "# detecting the outliers\n"
   ]
  },
  {
   "cell_type": "code",
   "execution_count": 9,
   "id": "5ffb540a",
   "metadata": {},
   "outputs": [
    {
     "data": {
      "text/html": [
       "<pre style=\"white-space:pre;overflow-x:auto;line-height:normal;font-family:Menlo,'DejaVu Sans Mono',consolas,'Courier New',monospace\">Feature <span style=\"color: #008000; text-decoration-color: #008000\">'MedInc'</span>:\n",
       "</pre>\n"
      ],
      "text/plain": [
       "Feature \u001b[32m'MedInc'\u001b[0m:\n"
      ]
     },
     "metadata": {},
     "output_type": "display_data"
    },
    {
     "data": {
      "text/html": [
       "<pre style=\"white-space:pre;overflow-x:auto;line-height:normal;font-family:Menlo,'DejaVu Sans Mono',consolas,'Courier New',monospace\">  - Quartiles: <span style=\"color: #808000; text-decoration-color: #808000\">Q1</span>=<span style=\"color: #008080; text-decoration-color: #008080; font-weight: bold\">2.5634</span>, <span style=\"color: #808000; text-decoration-color: #808000\">Q3</span>=<span style=\"color: #008080; text-decoration-color: #008080; font-weight: bold\">4.7432</span>, <span style=\"color: #808000; text-decoration-color: #808000\">IQR</span>=<span style=\"color: #008080; text-decoration-color: #008080; font-weight: bold\">2.1799</span>\n",
       "</pre>\n"
      ],
      "text/plain": [
       "  - Quartiles: \u001b[33mQ1\u001b[0m=\u001b[1;36m2\u001b[0m\u001b[1;36m.5634\u001b[0m, \u001b[33mQ3\u001b[0m=\u001b[1;36m4\u001b[0m\u001b[1;36m.7432\u001b[0m, \u001b[33mIQR\u001b[0m=\u001b[1;36m2\u001b[0m\u001b[1;36m.1799\u001b[0m\n"
      ]
     },
     "metadata": {},
     "output_type": "display_data"
    },
    {
     "data": {
      "text/html": [
       "<pre style=\"white-space:pre;overflow-x:auto;line-height:normal;font-family:Menlo,'DejaVu Sans Mono',consolas,'Courier New',monospace\">  - Bounds: <span style=\"color: #808000; text-decoration-color: #808000\">Lower</span>=<span style=\"color: #008080; text-decoration-color: #008080; font-weight: bold\">-0.7064</span>, <span style=\"color: #808000; text-decoration-color: #808000\">Upper</span>=<span style=\"color: #008080; text-decoration-color: #008080; font-weight: bold\">8.0130</span>\n",
       "</pre>\n"
      ],
      "text/plain": [
       "  - Bounds: \u001b[33mLower\u001b[0m=\u001b[1;36m-0.7064\u001b[0m, \u001b[33mUpper\u001b[0m=\u001b[1;36m8\u001b[0m\u001b[1;36m.0130\u001b[0m\n"
      ]
     },
     "metadata": {},
     "output_type": "display_data"
    },
    {
     "data": {
      "text/html": [
       "<pre style=\"white-space:pre;overflow-x:auto;line-height:normal;font-family:Menlo,'DejaVu Sans Mono',consolas,'Courier New',monospace\">  - Outliers: <span style=\"color: #008080; text-decoration-color: #008080; font-weight: bold\">681</span> <span style=\"font-weight: bold\">(</span><span style=\"color: #008080; text-decoration-color: #008080; font-weight: bold\">3.30</span>%<span style=\"font-weight: bold\">)</span>\n",
       "</pre>\n"
      ],
      "text/plain": [
       "  - Outliers: \u001b[1;36m681\u001b[0m \u001b[1m(\u001b[0m\u001b[1;36m3.30\u001b[0m%\u001b[1m)\u001b[0m\n"
      ]
     },
     "metadata": {},
     "output_type": "display_data"
    },
    {
     "data": {
      "image/png": "[encoded data removed]",
      "text/plain": [
       "<Figure size 1000x600 with 1 Axes>"
      ]
     },
     "metadata": {},
     "output_type": "display_data"
    },
    {
     "data": {
      "text/html": [
       "<pre style=\"white-space:pre;overflow-x:auto;line-height:normal;font-family:Menlo,'DejaVu Sans Mono',consolas,'Courier New',monospace\">Feature <span style=\"color: #008000; text-decoration-color: #008000\">'HouseAge'</span>:\n",
       "</pre>\n"
      ],
      "text/plain": [
       "Feature \u001b[32m'HouseAge'\u001b[0m:\n"
      ]
     },
     "metadata": {},
     "output_type": "display_data"
    },
    {
     "data": {
      "text/html": [
       "<pre style=\"white-space:pre;overflow-x:auto;line-height:normal;font-family:Menlo,'DejaVu Sans Mono',consolas,'Courier New',monospace\">  - Quartiles: <span style=\"color: #808000; text-decoration-color: #808000\">Q1</span>=<span style=\"color: #008080; text-decoration-color: #008080; font-weight: bold\">18.0000</span>, <span style=\"color: #808000; text-decoration-color: #808000\">Q3</span>=<span style=\"color: #008080; text-decoration-color: #008080; font-weight: bold\">37.0000</span>, <span style=\"color: #808000; text-decoration-color: #808000\">IQR</span>=<span style=\"color: #008080; text-decoration-color: #008080; font-weight: bold\">19.0000</span>\n",
       "</pre>\n"
      ],
      "text/plain": [
       "  - Quartiles: \u001b[33mQ1\u001b[0m=\u001b[1;36m18\u001b[0m\u001b[1;36m.0000\u001b[0m, \u001b[33mQ3\u001b[0m=\u001b[1;36m37\u001b[0m\u001b[1;36m.0000\u001b[0m, \u001b[33mIQR\u001b[0m=\u001b[1;36m19\u001b[0m\u001b[1;36m.0000\u001b[0m\n"
      ]
     },
     "metadata": {},
     "output_type": "display_data"
    },
    {
     "data": {
      "text/html": [
       "<pre style=\"white-space:pre;overflow-x:auto;line-height:normal;font-family:Menlo,'DejaVu Sans Mono',consolas,'Courier New',monospace\">  - Bounds: <span style=\"color: #808000; text-decoration-color: #808000\">Lower</span>=<span style=\"color: #008080; text-decoration-color: #008080; font-weight: bold\">-10.5000</span>, <span style=\"color: #808000; text-decoration-color: #808000\">Upper</span>=<span style=\"color: #008080; text-decoration-color: #008080; font-weight: bold\">65.5000</span>\n",
       "</pre>\n"
      ],
      "text/plain": [
       "  - Bounds: \u001b[33mLower\u001b[0m=\u001b[1;36m-10.5000\u001b[0m, \u001b[33mUpper\u001b[0m=\u001b[1;36m65\u001b[0m\u001b[1;36m.5000\u001b[0m\n"
      ]
     },
     "metadata": {},
     "output_type": "display_data"
    },
    {
     "data": {
      "text/html": [
       "<pre style=\"white-space:pre;overflow-x:auto;line-height:normal;font-family:Menlo,'DejaVu Sans Mono',consolas,'Courier New',monospace\">  - Outliers: <span style=\"color: #008080; text-decoration-color: #008080; font-weight: bold\">0</span> <span style=\"font-weight: bold\">(</span><span style=\"color: #008080; text-decoration-color: #008080; font-weight: bold\">0.00</span>%<span style=\"font-weight: bold\">)</span>\n",
       "</pre>\n"
      ],
      "text/plain": [
       "  - Outliers: \u001b[1;36m0\u001b[0m \u001b[1m(\u001b[0m\u001b[1;36m0.00\u001b[0m%\u001b[1m)\u001b[0m\n"
      ]
     },
     "metadata": {},
     "output_type": "display_data"
    },
    {
     "data": {
      "image/png": "[encoded data removed]",
      "text/plain": [
       "<Figure size 1000x600 with 1 Axes>"
      ]
     },
     "metadata": {},
     "output_type": "display_data"
    },
    {
     "data": {
      "text/html": [
       "<pre style=\"white-space:pre;overflow-x:auto;line-height:normal;font-family:Menlo,'DejaVu Sans Mono',consolas,'Courier New',monospace\">Feature <span style=\"color: #008000; text-decoration-color: #008000\">'AveRooms'</span>:\n",
       "</pre>\n"
      ],
      "text/plain": [
       "Feature \u001b[32m'AveRooms'\u001b[0m:\n"
      ]
     },
     "metadata": {},
     "output_type": "display_data"
    },
    {
     "data": {
      "text/html": [
       "<pre style=\"white-space:pre;overflow-x:auto;line-height:normal;font-family:Menlo,'DejaVu Sans Mono',consolas,'Courier New',monospace\">  - Quartiles: <span style=\"color: #808000; text-decoration-color: #808000\">Q1</span>=<span style=\"color: #008080; text-decoration-color: #008080; font-weight: bold\">4.4407</span>, <span style=\"color: #808000; text-decoration-color: #808000\">Q3</span>=<span style=\"color: #008080; text-decoration-color: #008080; font-weight: bold\">6.0524</span>, <span style=\"color: #808000; text-decoration-color: #808000\">IQR</span>=<span style=\"color: #008080; text-decoration-color: #008080; font-weight: bold\">1.6117</span>\n",
       "</pre>\n"
      ],
      "text/plain": [
       "  - Quartiles: \u001b[33mQ1\u001b[0m=\u001b[1;36m4\u001b[0m\u001b[1;36m.4407\u001b[0m, \u001b[33mQ3\u001b[0m=\u001b[1;36m6\u001b[0m\u001b[1;36m.0524\u001b[0m, \u001b[33mIQR\u001b[0m=\u001b[1;36m1\u001b[0m\u001b[1;36m.6117\u001b[0m\n"
      ]
     },
     "metadata": {},
     "output_type": "display_data"
    },
    {
     "data": {
      "text/html": [
       "<pre style=\"white-space:pre;overflow-x:auto;line-height:normal;font-family:Menlo,'DejaVu Sans Mono',consolas,'Courier New',monospace\">  - Bounds: <span style=\"color: #808000; text-decoration-color: #808000\">Lower</span>=<span style=\"color: #008080; text-decoration-color: #008080; font-weight: bold\">2.0232</span>, <span style=\"color: #808000; text-decoration-color: #808000\">Upper</span>=<span style=\"color: #008080; text-decoration-color: #008080; font-weight: bold\">8.4699</span>\n",
       "</pre>\n"
      ],
      "text/plain": [
       "  - Bounds: \u001b[33mLower\u001b[0m=\u001b[1;36m2\u001b[0m\u001b[1;36m.0232\u001b[0m, \u001b[33mUpper\u001b[0m=\u001b[1;36m8\u001b[0m\u001b[1;36m.4699\u001b[0m\n"
      ]
     },
     "metadata": {},
     "output_type": "display_data"
    },
    {
     "data": {
      "text/html": [
       "<pre style=\"white-space:pre;overflow-x:auto;line-height:normal;font-family:Menlo,'DejaVu Sans Mono',consolas,'Courier New',monospace\">  - Outliers: <span style=\"color: #008080; text-decoration-color: #008080; font-weight: bold\">511</span> <span style=\"font-weight: bold\">(</span><span style=\"color: #008080; text-decoration-color: #008080; font-weight: bold\">2.48</span>%<span style=\"font-weight: bold\">)</span>\n",
       "</pre>\n"
      ],
      "text/plain": [
       "  - Outliers: \u001b[1;36m511\u001b[0m \u001b[1m(\u001b[0m\u001b[1;36m2.48\u001b[0m%\u001b[1m)\u001b[0m\n"
      ]
     },
     "metadata": {},
     "output_type": "display_data"
    },
    {
     "data": {
      "image/png": "[encoded data removed]",
      "text/plain": [
       "<Figure size 1000x600 with 1 Axes>"
      ]
     },
     "metadata": {},
     "output_type": "display_data"
    },
    {
     "data": {
      "text/html": [
       "<pre style=\"white-space:pre;overflow-x:auto;line-height:normal;font-family:Menlo,'DejaVu Sans Mono',consolas,'Courier New',monospace\">Feature <span style=\"color: #008000; text-decoration-color: #008000\">'AveBedrms'</span>:\n",
       "</pre>\n"
      ],
      "text/plain": [
       "Feature \u001b[32m'AveBedrms'\u001b[0m:\n"
      ]
     },
     "metadata": {},
     "output_type": "display_data"
    },
    {
     "data": {
      "text/html": [
       "<pre style=\"white-space:pre;overflow-x:auto;line-height:normal;font-family:Menlo,'DejaVu Sans Mono',consolas,'Courier New',monospace\">  - Quartiles: <span style=\"color: #808000; text-decoration-color: #808000\">Q1</span>=<span style=\"color: #008080; text-decoration-color: #008080; font-weight: bold\">1.0061</span>, <span style=\"color: #808000; text-decoration-color: #808000\">Q3</span>=<span style=\"color: #008080; text-decoration-color: #008080; font-weight: bold\">1.0995</span>, <span style=\"color: #808000; text-decoration-color: #808000\">IQR</span>=<span style=\"color: #008080; text-decoration-color: #008080; font-weight: bold\">0.0934</span>\n",
       "</pre>\n"
      ],
      "text/plain": [
       "  - Quartiles: \u001b[33mQ1\u001b[0m=\u001b[1;36m1\u001b[0m\u001b[1;36m.0061\u001b[0m, \u001b[33mQ3\u001b[0m=\u001b[1;36m1\u001b[0m\u001b[1;36m.0995\u001b[0m, \u001b[33mIQR\u001b[0m=\u001b[1;36m0\u001b[0m\u001b[1;36m.0934\u001b[0m\n"
      ]
     },
     "metadata": {},
     "output_type": "display_data"
    },
    {
     "data": {
      "text/html": [
       "<pre style=\"white-space:pre;overflow-x:auto;line-height:normal;font-family:Menlo,'DejaVu Sans Mono',consolas,'Courier New',monospace\">  - Bounds: <span style=\"color: #808000; text-decoration-color: #808000\">Lower</span>=<span style=\"color: #008080; text-decoration-color: #008080; font-weight: bold\">0.8659</span>, <span style=\"color: #808000; text-decoration-color: #808000\">Upper</span>=<span style=\"color: #008080; text-decoration-color: #008080; font-weight: bold\">1.2397</span>\n",
       "</pre>\n"
      ],
      "text/plain": [
       "  - Bounds: \u001b[33mLower\u001b[0m=\u001b[1;36m0\u001b[0m\u001b[1;36m.8659\u001b[0m, \u001b[33mUpper\u001b[0m=\u001b[1;36m1\u001b[0m\u001b[1;36m.2397\u001b[0m\n"
      ]
     },
     "metadata": {},
     "output_type": "display_data"
    },
    {
     "data": {
      "text/html": [
       "<pre style=\"white-space:pre;overflow-x:auto;line-height:normal;font-family:Menlo,'DejaVu Sans Mono',consolas,'Courier New',monospace\">  - Outliers: <span style=\"color: #008080; text-decoration-color: #008080; font-weight: bold\">1424</span> <span style=\"font-weight: bold\">(</span><span style=\"color: #008080; text-decoration-color: #008080; font-weight: bold\">6.90</span>%<span style=\"font-weight: bold\">)</span>\n",
       "</pre>\n"
      ],
      "text/plain": [
       "  - Outliers: \u001b[1;36m1424\u001b[0m \u001b[1m(\u001b[0m\u001b[1;36m6.90\u001b[0m%\u001b[1m)\u001b[0m\n"
      ]
     },
     "metadata": {},
     "output_type": "display_data"
    },
    {
     "data": {
      "image/png": "[encoded data removed]",
      "text/plain": [
       "<Figure size 1000x600 with 1 Axes>"
      ]
     },
     "metadata": {},
     "output_type": "display_data"
    },
    {
     "data": {
      "text/html": [
       "<pre style=\"white-space:pre;overflow-x:auto;line-height:normal;font-family:Menlo,'DejaVu Sans Mono',consolas,'Courier New',monospace\">Feature <span style=\"color: #008000; text-decoration-color: #008000\">'Population'</span>:\n",
       "</pre>\n"
      ],
      "text/plain": [
       "Feature \u001b[32m'Population'\u001b[0m:\n"
      ]
     },
     "metadata": {},
     "output_type": "display_data"
    },
    {
     "data": {
      "text/html": [
       "<pre style=\"white-space:pre;overflow-x:auto;line-height:normal;font-family:Menlo,'DejaVu Sans Mono',consolas,'Courier New',monospace\">  - Quartiles: <span style=\"color: #808000; text-decoration-color: #808000\">Q1</span>=<span style=\"color: #008080; text-decoration-color: #008080; font-weight: bold\">787.0000</span>, <span style=\"color: #808000; text-decoration-color: #808000\">Q3</span>=<span style=\"color: #008080; text-decoration-color: #008080; font-weight: bold\">1725.0000</span>, <span style=\"color: #808000; text-decoration-color: #808000\">IQR</span>=<span style=\"color: #008080; text-decoration-color: #008080; font-weight: bold\">938.0000</span>\n",
       "</pre>\n"
      ],
      "text/plain": [
       "  - Quartiles: \u001b[33mQ1\u001b[0m=\u001b[1;36m787\u001b[0m\u001b[1;36m.0000\u001b[0m, \u001b[33mQ3\u001b[0m=\u001b[1;36m1725\u001b[0m\u001b[1;36m.0000\u001b[0m, \u001b[33mIQR\u001b[0m=\u001b[1;36m938\u001b[0m\u001b[1;36m.0000\u001b[0m\n"
      ]
     },
     "metadata": {},
     "output_type": "display_data"
    },
    {
     "data": {
      "text/html": [
       "<pre style=\"white-space:pre;overflow-x:auto;line-height:normal;font-family:Menlo,'DejaVu Sans Mono',consolas,'Courier New',monospace\">  - Bounds: <span style=\"color: #808000; text-decoration-color: #808000\">Lower</span>=<span style=\"color: #008080; text-decoration-color: #008080; font-weight: bold\">-620.0000</span>, <span style=\"color: #808000; text-decoration-color: #808000\">Upper</span>=<span style=\"color: #008080; text-decoration-color: #008080; font-weight: bold\">3132.0000</span>\n",
       "</pre>\n"
      ],
      "text/plain": [
       "  - Bounds: \u001b[33mLower\u001b[0m=\u001b[1;36m-620.0000\u001b[0m, \u001b[33mUpper\u001b[0m=\u001b[1;36m3132\u001b[0m\u001b[1;36m.0000\u001b[0m\n"
      ]
     },
     "metadata": {},
     "output_type": "display_data"
    },
    {
     "data": {
      "text/html": [
       "<pre style=\"white-space:pre;overflow-x:auto;line-height:normal;font-family:Menlo,'DejaVu Sans Mono',consolas,'Courier New',monospace\">  - Outliers: <span style=\"color: #008080; text-decoration-color: #008080; font-weight: bold\">1196</span> <span style=\"font-weight: bold\">(</span><span style=\"color: #008080; text-decoration-color: #008080; font-weight: bold\">5.79</span>%<span style=\"font-weight: bold\">)</span>\n",
       "</pre>\n"
      ],
      "text/plain": [
       "  - Outliers: \u001b[1;36m1196\u001b[0m \u001b[1m(\u001b[0m\u001b[1;36m5.79\u001b[0m%\u001b[1m)\u001b[0m\n"
      ]
     },
     "metadata": {},
     "output_type": "display_data"
    },
    {
     "data": {
      "image/png": "[encoded data removed]",
      "text/plain": [
       "<Figure size 1000x600 with 1 Axes>"
      ]
     },
     "metadata": {},
     "output_type": "display_data"
    },
    {
     "data": {
      "text/html": [
       "<pre style=\"white-space:pre;overflow-x:auto;line-height:normal;font-family:Menlo,'DejaVu Sans Mono',consolas,'Courier New',monospace\">Feature <span style=\"color: #008000; text-decoration-color: #008000\">'AveOccup'</span>:\n",
       "</pre>\n"
      ],
      "text/plain": [
       "Feature \u001b[32m'AveOccup'\u001b[0m:\n"
      ]
     },
     "metadata": {},
     "output_type": "display_data"
    },
    {
     "data": {
      "text/html": [
       "<pre style=\"white-space:pre;overflow-x:auto;line-height:normal;font-family:Menlo,'DejaVu Sans Mono',consolas,'Courier New',monospace\">  - Quartiles: <span style=\"color: #808000; text-decoration-color: #808000\">Q1</span>=<span style=\"color: #008080; text-decoration-color: #008080; font-weight: bold\">2.4297</span>, <span style=\"color: #808000; text-decoration-color: #808000\">Q3</span>=<span style=\"color: #008080; text-decoration-color: #008080; font-weight: bold\">3.2823</span>, <span style=\"color: #808000; text-decoration-color: #808000\">IQR</span>=<span style=\"color: #008080; text-decoration-color: #008080; font-weight: bold\">0.8525</span>\n",
       "</pre>\n"
      ],
      "text/plain": [
       "  - Quartiles: \u001b[33mQ1\u001b[0m=\u001b[1;36m2\u001b[0m\u001b[1;36m.4297\u001b[0m, \u001b[33mQ3\u001b[0m=\u001b[1;36m3\u001b[0m\u001b[1;36m.2823\u001b[0m, \u001b[33mIQR\u001b[0m=\u001b[1;36m0\u001b[0m\u001b[1;36m.8525\u001b[0m\n"
      ]
     },
     "metadata": {},
     "output_type": "display_data"
    },
    {
     "data": {
      "text/html": [
       "<pre style=\"white-space:pre;overflow-x:auto;line-height:normal;font-family:Menlo,'DejaVu Sans Mono',consolas,'Courier New',monospace\">  - Bounds: <span style=\"color: #808000; text-decoration-color: #808000\">Lower</span>=<span style=\"color: #008080; text-decoration-color: #008080; font-weight: bold\">1.1510</span>, <span style=\"color: #808000; text-decoration-color: #808000\">Upper</span>=<span style=\"color: #008080; text-decoration-color: #008080; font-weight: bold\">4.5610</span>\n",
       "</pre>\n"
      ],
      "text/plain": [
       "  - Bounds: \u001b[33mLower\u001b[0m=\u001b[1;36m1\u001b[0m\u001b[1;36m.1510\u001b[0m, \u001b[33mUpper\u001b[0m=\u001b[1;36m4\u001b[0m\u001b[1;36m.5610\u001b[0m\n"
      ]
     },
     "metadata": {},
     "output_type": "display_data"
    },
    {
     "data": {
      "text/html": [
       "<pre style=\"white-space:pre;overflow-x:auto;line-height:normal;font-family:Menlo,'DejaVu Sans Mono',consolas,'Courier New',monospace\">  - Outliers: <span style=\"color: #008080; text-decoration-color: #008080; font-weight: bold\">711</span> <span style=\"font-weight: bold\">(</span><span style=\"color: #008080; text-decoration-color: #008080; font-weight: bold\">3.44</span>%<span style=\"font-weight: bold\">)</span>\n",
       "</pre>\n"
      ],
      "text/plain": [
       "  - Outliers: \u001b[1;36m711\u001b[0m \u001b[1m(\u001b[0m\u001b[1;36m3.44\u001b[0m%\u001b[1m)\u001b[0m\n"
      ]
     },
     "metadata": {},
     "output_type": "display_data"
    },
    {
     "data": {
      "image/png": "[encoded data removed]",
      "text/plain": [
       "<Figure size 1000x600 with 1 Axes>"
      ]
     },
     "metadata": {},
     "output_type": "display_data"
    },
    {
     "data": {
      "text/html": [
       "<pre style=\"white-space:pre;overflow-x:auto;line-height:normal;font-family:Menlo,'DejaVu Sans Mono',consolas,'Courier New',monospace\">Feature <span style=\"color: #008000; text-decoration-color: #008000\">'Latitude'</span>:\n",
       "</pre>\n"
      ],
      "text/plain": [
       "Feature \u001b[32m'Latitude'\u001b[0m:\n"
      ]
     },
     "metadata": {},
     "output_type": "display_data"
    },
    {
     "data": {
      "text/html": [
       "<pre style=\"white-space:pre;overflow-x:auto;line-height:normal;font-family:Menlo,'DejaVu Sans Mono',consolas,'Courier New',monospace\">  - Quartiles: <span style=\"color: #808000; text-decoration-color: #808000\">Q1</span>=<span style=\"color: #008080; text-decoration-color: #008080; font-weight: bold\">33.9300</span>, <span style=\"color: #808000; text-decoration-color: #808000\">Q3</span>=<span style=\"color: #008080; text-decoration-color: #008080; font-weight: bold\">37.7100</span>, <span style=\"color: #808000; text-decoration-color: #808000\">IQR</span>=<span style=\"color: #008080; text-decoration-color: #008080; font-weight: bold\">3.7800</span>\n",
       "</pre>\n"
      ],
      "text/plain": [
       "  - Quartiles: \u001b[33mQ1\u001b[0m=\u001b[1;36m33\u001b[0m\u001b[1;36m.9300\u001b[0m, \u001b[33mQ3\u001b[0m=\u001b[1;36m37\u001b[0m\u001b[1;36m.7100\u001b[0m, \u001b[33mIQR\u001b[0m=\u001b[1;36m3\u001b[0m\u001b[1;36m.7800\u001b[0m\n"
      ]
     },
     "metadata": {},
     "output_type": "display_data"
    },
    {
     "data": {
      "text/html": [
       "<pre style=\"white-space:pre;overflow-x:auto;line-height:normal;font-family:Menlo,'DejaVu Sans Mono',consolas,'Courier New',monospace\">  - Bounds: <span style=\"color: #808000; text-decoration-color: #808000\">Lower</span>=<span style=\"color: #008080; text-decoration-color: #008080; font-weight: bold\">28.2600</span>, <span style=\"color: #808000; text-decoration-color: #808000\">Upper</span>=<span style=\"color: #008080; text-decoration-color: #008080; font-weight: bold\">43.3800</span>\n",
       "</pre>\n"
      ],
      "text/plain": [
       "  - Bounds: \u001b[33mLower\u001b[0m=\u001b[1;36m28\u001b[0m\u001b[1;36m.2600\u001b[0m, \u001b[33mUpper\u001b[0m=\u001b[1;36m43\u001b[0m\u001b[1;36m.3800\u001b[0m\n"
      ]
     },
     "metadata": {},
     "output_type": "display_data"
    },
    {
     "data": {
      "text/html": [
       "<pre style=\"white-space:pre;overflow-x:auto;line-height:normal;font-family:Menlo,'DejaVu Sans Mono',consolas,'Courier New',monospace\">  - Outliers: <span style=\"color: #008080; text-decoration-color: #008080; font-weight: bold\">0</span> <span style=\"font-weight: bold\">(</span><span style=\"color: #008080; text-decoration-color: #008080; font-weight: bold\">0.00</span>%<span style=\"font-weight: bold\">)</span>\n",
       "</pre>\n"
      ],
      "text/plain": [
       "  - Outliers: \u001b[1;36m0\u001b[0m \u001b[1m(\u001b[0m\u001b[1;36m0.00\u001b[0m%\u001b[1m)\u001b[0m\n"
      ]
     },
     "metadata": {},
     "output_type": "display_data"
    },
    {
     "data": {
      "image/png": "[encoded data removed]",
      "text/plain": [
       "<Figure size 1000x600 with 1 Axes>"
      ]
     },
     "metadata": {},
     "output_type": "display_data"
    },
    {
     "data": {
      "text/html": [
       "<pre style=\"white-space:pre;overflow-x:auto;line-height:normal;font-family:Menlo,'DejaVu Sans Mono',consolas,'Courier New',monospace\">Feature <span style=\"color: #008000; text-decoration-color: #008000\">'Longitude'</span>:\n",
       "</pre>\n"
      ],
      "text/plain": [
       "Feature \u001b[32m'Longitude'\u001b[0m:\n"
      ]
     },
     "metadata": {},
     "output_type": "display_data"
    },
    {
     "data": {
      "text/html": [
       "<pre style=\"white-space:pre;overflow-x:auto;line-height:normal;font-family:Menlo,'DejaVu Sans Mono',consolas,'Courier New',monospace\">  - Quartiles: <span style=\"color: #808000; text-decoration-color: #808000\">Q1</span>=<span style=\"color: #008080; text-decoration-color: #008080; font-weight: bold\">-121.8000</span>, <span style=\"color: #808000; text-decoration-color: #808000\">Q3</span>=<span style=\"color: #008080; text-decoration-color: #008080; font-weight: bold\">-118.0100</span>, <span style=\"color: #808000; text-decoration-color: #808000\">IQR</span>=<span style=\"color: #008080; text-decoration-color: #008080; font-weight: bold\">3.7900</span>\n",
       "</pre>\n"
      ],
      "text/plain": [
       "  - Quartiles: \u001b[33mQ1\u001b[0m=\u001b[1;36m-121.8000\u001b[0m, \u001b[33mQ3\u001b[0m=\u001b[1;36m-118.0100\u001b[0m, \u001b[33mIQR\u001b[0m=\u001b[1;36m3\u001b[0m\u001b[1;36m.7900\u001b[0m\n"
      ]
     },
     "metadata": {},
     "output_type": "display_data"
    },
    {
     "data": {
      "text/html": [
       "<pre style=\"white-space:pre;overflow-x:auto;line-height:normal;font-family:Menlo,'DejaVu Sans Mono',consolas,'Courier New',monospace\">  - Bounds: <span style=\"color: #808000; text-decoration-color: #808000\">Lower</span>=<span style=\"color: #008080; text-decoration-color: #008080; font-weight: bold\">-127.4850</span>, <span style=\"color: #808000; text-decoration-color: #808000\">Upper</span>=<span style=\"color: #008080; text-decoration-color: #008080; font-weight: bold\">-112.3250</span>\n",
       "</pre>\n"
      ],
      "text/plain": [
       "  - Bounds: \u001b[33mLower\u001b[0m=\u001b[1;36m-127.4850\u001b[0m, \u001b[33mUpper\u001b[0m=\u001b[1;36m-112.3250\u001b[0m\n"
      ]
     },
     "metadata": {},
     "output_type": "display_data"
    },
    {
     "data": {
      "text/html": [
       "<pre style=\"white-space:pre;overflow-x:auto;line-height:normal;font-family:Menlo,'DejaVu Sans Mono',consolas,'Courier New',monospace\">  - Outliers: <span style=\"color: #008080; text-decoration-color: #008080; font-weight: bold\">0</span> <span style=\"font-weight: bold\">(</span><span style=\"color: #008080; text-decoration-color: #008080; font-weight: bold\">0.00</span>%<span style=\"font-weight: bold\">)</span>\n",
       "</pre>\n"
      ],
      "text/plain": [
       "  - Outliers: \u001b[1;36m0\u001b[0m \u001b[1m(\u001b[0m\u001b[1;36m0.00\u001b[0m%\u001b[1m)\u001b[0m\n"
      ]
     },
     "metadata": {},
     "output_type": "display_data"
    },
    {
     "data": {
      "image/png": "[encoded data removed]",
      "text/plain": [
       "<Figure size 1000x600 with 1 Axes>"
      ]
     },
     "metadata": {},
     "output_type": "display_data"
    },
    {
     "data": {
      "text/html": [
       "<pre style=\"white-space:pre;overflow-x:auto;line-height:normal;font-family:Menlo,'DejaVu Sans Mono',consolas,'Courier New',monospace\">Feature <span style=\"color: #008000; text-decoration-color: #008000\">'Target'</span>:\n",
       "</pre>\n"
      ],
      "text/plain": [
       "Feature \u001b[32m'Target'\u001b[0m:\n"
      ]
     },
     "metadata": {},
     "output_type": "display_data"
    },
    {
     "data": {
      "text/html": [
       "<pre style=\"white-space:pre;overflow-x:auto;line-height:normal;font-family:Menlo,'DejaVu Sans Mono',consolas,'Courier New',monospace\">  - Quartiles: <span style=\"color: #808000; text-decoration-color: #808000\">Q1</span>=<span style=\"color: #008080; text-decoration-color: #008080; font-weight: bold\">1.1960</span>, <span style=\"color: #808000; text-decoration-color: #808000\">Q3</span>=<span style=\"color: #008080; text-decoration-color: #008080; font-weight: bold\">2.6472</span>, <span style=\"color: #808000; text-decoration-color: #808000\">IQR</span>=<span style=\"color: #008080; text-decoration-color: #008080; font-weight: bold\">1.4512</span>\n",
       "</pre>\n"
      ],
      "text/plain": [
       "  - Quartiles: \u001b[33mQ1\u001b[0m=\u001b[1;36m1\u001b[0m\u001b[1;36m.1960\u001b[0m, \u001b[33mQ3\u001b[0m=\u001b[1;36m2\u001b[0m\u001b[1;36m.6472\u001b[0m, \u001b[33mIQR\u001b[0m=\u001b[1;36m1\u001b[0m\u001b[1;36m.4512\u001b[0m\n"
      ]
     },
     "metadata": {},
     "output_type": "display_data"
    },
    {
     "data": {
      "text/html": [
       "<pre style=\"white-space:pre;overflow-x:auto;line-height:normal;font-family:Menlo,'DejaVu Sans Mono',consolas,'Courier New',monospace\">  - Bounds: <span style=\"color: #808000; text-decoration-color: #808000\">Lower</span>=<span style=\"color: #008080; text-decoration-color: #008080; font-weight: bold\">-0.9809</span>, <span style=\"color: #808000; text-decoration-color: #808000\">Upper</span>=<span style=\"color: #008080; text-decoration-color: #008080; font-weight: bold\">4.8241</span>\n",
       "</pre>\n"
      ],
      "text/plain": [
       "  - Bounds: \u001b[33mLower\u001b[0m=\u001b[1;36m-0.9809\u001b[0m, \u001b[33mUpper\u001b[0m=\u001b[1;36m4\u001b[0m\u001b[1;36m.8241\u001b[0m\n"
      ]
     },
     "metadata": {},
     "output_type": "display_data"
    },
    {
     "data": {
      "text/html": [
       "<pre style=\"white-space:pre;overflow-x:auto;line-height:normal;font-family:Menlo,'DejaVu Sans Mono',consolas,'Courier New',monospace\">  - Outliers: <span style=\"color: #008080; text-decoration-color: #008080; font-weight: bold\">1071</span> <span style=\"font-weight: bold\">(</span><span style=\"color: #008080; text-decoration-color: #008080; font-weight: bold\">5.19</span>%<span style=\"font-weight: bold\">)</span>\n",
       "</pre>\n"
      ],
      "text/plain": [
       "  - Outliers: \u001b[1;36m1071\u001b[0m \u001b[1m(\u001b[0m\u001b[1;36m5.19\u001b[0m%\u001b[1m)\u001b[0m\n"
      ]
     },
     "metadata": {},
     "output_type": "display_data"
    },
    {
     "data": {
      "image/png": "[encoded data removed]",
      "text/plain": [
       "<Figure size 1000x600 with 1 Axes>"
      ]
     },
     "metadata": {},
     "output_type": "display_data"
    }
   ],
   "source": [
    "# For each feature, calculate quartiles and identify outliers\n",
    "outlier_info = {}\n",
    "\n",
    "for feature in df_housing.columns:\n",
    "    # Calculate quartiles for this specific feature\n",
    "    Q1 = df_housing[feature].quantile(0.25)\n",
    "    Q3 = df_housing[feature].quantile(0.75)\n",
    "    IQR = Q3 - Q1\n",
    "    \n",
    "    # Define bounds for outliers\n",
    "    lower_bound = Q1 - 1.5 * IQR\n",
    "    upper_bound = Q3 + 1.5 * IQR\n",
    "    \n",
    "    # Identify outliers for this feature\n",
    "    outliers = df_housing[(df_housing[feature] < lower_bound) | (df_housing[feature] > upper_bound)]\n",
    "    \n",
    "    # Count and store information\n",
    "    outlier_count = len(outliers)\n",
    "    outlier_info[feature] = {\n",
    "        'count': outlier_count,\n",
    "        'percentage': (outlier_count / len(df_housing)) * 100,\n",
    "        'lower_bound': lower_bound,\n",
    "        'upper_bound': upper_bound\n",
    "    }\n",
    "    \n",
    "    # Print summary for this feature\n",
    "    print(f\"Feature '{feature}':\")\n",
    "    print(f\"  - Quartiles: Q1={Q1:.4f}, Q3={Q3:.4f}, IQR={IQR:.4f}\")\n",
    "    print(f\"  - Bounds: Lower={lower_bound:.4f}, Upper={upper_bound:.4f}\")\n",
    "    print(f\"  - Outliers: {outlier_count} ({outlier_info[feature]['percentage']:.2f}%)\")\n",
    "    \n",
    "    # Visualize the feature with outliers highlighted\n",
    "    plt.figure(figsize=(10, 6))\n",
    "    plt.boxplot(df_housing[feature])\n",
    "    plt.title(f'Boxplot for {feature}')\n",
    "    plt.grid(True, linestyle='--', alpha=0.7)\n",
    "    plt.show()"
   ]
  },
  {
   "cell_type": "code",
   "execution_count": 11,
   "id": "059b0055",
   "metadata": {},
   "outputs": [],
   "source": [
    "z_scores = np.abs(zscore(df_housing))\n",
    "df_no_outliers = df_housing[(z_scores < 3).all(axis=1)]"
   ]
  },
  {
   "cell_type": "code",
   "execution_count": 12,
   "id": "d76de328",
   "metadata": {},
   "outputs": [
    {
     "data": {
      "text/html": [
       "<pre style=\"white-space:pre;overflow-x:auto;line-height:normal;font-family:Menlo,'DejaVu Sans Mono',consolas,'Courier New',monospace\"><span style=\"font-weight: bold\">(</span><span style=\"color: #008080; text-decoration-color: #008080; font-weight: bold\">20640</span>, <span style=\"color: #008080; text-decoration-color: #008080; font-weight: bold\">9</span><span style=\"font-weight: bold\">)</span>\n",
       "<span style=\"font-weight: bold\">(</span><span style=\"color: #008080; text-decoration-color: #008080; font-weight: bold\">19794</span>, <span style=\"color: #008080; text-decoration-color: #008080; font-weight: bold\">9</span><span style=\"font-weight: bold\">)</span>\n",
       "</pre>\n"
      ],
      "text/plain": [
       "\u001b[1m(\u001b[0m\u001b[1;36m20640\u001b[0m, \u001b[1;36m9\u001b[0m\u001b[1m)\u001b[0m\n",
       "\u001b[1m(\u001b[0m\u001b[1;36m19794\u001b[0m, \u001b[1;36m9\u001b[0m\u001b[1m)\u001b[0m\n"
      ]
     },
     "metadata": {},
     "output_type": "display_data"
    }
   ],
   "source": [
    "print(df_housing.shape, df_no_outliers.shape)"
   ]
  },
  {
   "cell_type": "code",
   "execution_count": 13,
   "id": "f38ba344",
   "metadata": {},
   "outputs": [],
   "source": [
    "df_no_outliers=df_no_outliers[~(df_no_outliers['AveOccup']>30)]"
   ]
  },
  {
   "cell_type": "code",
   "execution_count": 14,
   "id": "e61ada9e",
   "metadata": {},
   "outputs": [],
   "source": [
    "# Split the data into features (X) and target (y)\n",
    "X = df_no_outliers.drop(['Target','Latitude','Longitude'], axis=1)\n",
    "y = df_no_outliers['Target']"
   ]
  },
  {
   "cell_type": "code",
   "execution_count": 15,
   "id": "8236babb",
   "metadata": {},
   "outputs": [
    {
     "data": {
      "application/vnd.microsoft.datawrangler.viewer.v0+json": {
       "columns": [
        {
         "name": "index",
         "rawType": "int64",
         "type": "integer"
        },
        {
         "name": "MedInc",
         "rawType": "float64",
         "type": "float"
        },
        {
         "name": "HouseAge",
         "rawType": "float64",
         "type": "float"
        },
        {
         "name": "AveRooms",
         "rawType": "float64",
         "type": "float"
        },
        {
         "name": "AveBedrms",
         "rawType": "float64",
         "type": "float"
        },
        {
         "name": "Population",
         "rawType": "float64",
         "type": "float"
        },
        {
         "name": "AveOccup",
         "rawType": "float64",
         "type": "float"
        }
       ],
       "conversionMethod": "pd.DataFrame",
       "ref": "12216e04-d055-4d51-bb68-0da8827b69ef",
       "rows": [
        [
         "0",
         "8.3252",
         "41.0",
         "6.984126984126984",
         "1.0238095238095237",
         "322.0",
         "2.5555555555555554"
        ],
        [
         "1",
         "8.3014",
         "21.0",
         "6.238137082601054",
         "0.9718804920913884",
         "2401.0",
         "2.109841827768014"
        ],
        [
         "2",
         "7.2574",
         "52.0",
         "8.288135593220339",
         "1.073446327683616",
         "496.0",
         "2.8022598870056497"
        ],
        [
         "3",
         "5.6431",
         "52.0",
         "5.8173515981735155",
         "1.0730593607305936",
         "558.0",
         "2.547945205479452"
        ],
        [
         "4",
         "3.8462",
         "52.0",
         "6.281853281853282",
         "1.0810810810810811",
         "565.0",
         "2.1814671814671813"
        ],
        [
         "5",
         "4.0368",
         "52.0",
         "4.761658031088083",
         "1.1036269430051813",
         "413.0",
         "2.139896373056995"
        ],
        [
         "6",
         "3.6591",
         "52.0",
         "4.9319066147859925",
         "0.9513618677042801",
         "1094.0",
         "2.1284046692607004"
        ],
        [
         "7",
         "3.12",
         "52.0",
         "4.797527047913447",
         "1.061823802163833",
         "1157.0",
         "1.7882534775888717"
        ],
        [
         "8",
         "2.0804",
         "42.0",
         "4.294117647058823",
         "1.1176470588235294",
         "1206.0",
         "2.026890756302521"
        ],
        [
         "9",
         "3.6912",
         "52.0",
         "4.970588235294118",
         "0.9901960784313726",
         "1551.0",
         "2.172268907563025"
        ],
        [
         "10",
         "3.2031",
         "52.0",
         "5.477611940298507",
         "1.0796019900497513",
         "910.0",
         "2.263681592039801"
        ],
        [
         "11",
         "3.2705",
         "52.0",
         "4.772479564032698",
         "1.0245231607629428",
         "1504.0",
         "2.0490463215258856"
        ],
        [
         "12",
         "3.075",
         "52.0",
         "5.322649572649572",
         "1.0128205128205128",
         "1098.0",
         "2.3461538461538463"
        ],
        [
         "13",
         "2.6736",
         "52.0",
         "4.0",
         "1.0977011494252873",
         "345.0",
         "1.9827586206896552"
        ],
        [
         "14",
         "1.9167",
         "52.0",
         "4.262903225806451",
         "1.0096774193548388",
         "1212.0",
         "1.9548387096774194"
        ],
        [
         "15",
         "2.125",
         "50.0",
         "4.242424242424242",
         "1.071969696969697",
         "697.0",
         "2.640151515151515"
        ],
        [
         "16",
         "2.775",
         "52.0",
         "5.9395770392749245",
         "1.0483383685800605",
         "793.0",
         "2.395770392749245"
        ],
        [
         "17",
         "2.1202",
         "52.0",
         "4.052805280528053",
         "0.966996699669967",
         "648.0",
         "2.1386138613861387"
        ],
        [
         "18",
         "1.9911",
         "50.0",
         "5.343675417661098",
         "1.0859188544152745",
         "990.0",
         "2.3627684964200477"
        ],
        [
         "19",
         "2.6033",
         "52.0",
         "5.465454545454546",
         "1.0836363636363637",
         "690.0",
         "2.5090909090909093"
        ],
        [
         "20",
         "1.3578",
         "40.0",
         "4.524096385542169",
         "1.108433734939759",
         "409.0",
         "2.463855421686747"
        ],
        [
         "21",
         "1.7135",
         "42.0",
         "4.478142076502732",
         "1.0027322404371584",
         "929.0",
         "2.5382513661202184"
        ],
        [
         "22",
         "1.725",
         "52.0",
         "5.096234309623431",
         "1.1317991631799162",
         "1015.0",
         "2.1234309623430963"
        ],
        [
         "23",
         "2.1806",
         "52.0",
         "5.193846153846154",
         "1.0369230769230768",
         "853.0",
         "2.624615384615385"
        ],
        [
         "24",
         "2.6",
         "52.0",
         "5.270142180094787",
         "1.0355450236966826",
         "1006.0",
         "2.3838862559241707"
        ],
        [
         "25",
         "2.4038",
         "41.0",
         "4.495798319327731",
         "1.0336134453781514",
         "317.0",
         "2.6638655462184873"
        ],
        [
         "26",
         "2.4597",
         "49.0",
         "4.7280334728033475",
         "1.0209205020920502",
         "607.0",
         "2.5397489539748954"
        ],
        [
         "27",
         "1.808",
         "52.0",
         "4.7808564231738035",
         "1.0604534005037782",
         "1102.0",
         "2.7758186397984885"
        ],
        [
         "28",
         "1.6424",
         "50.0",
         "4.40169133192389",
         "1.040169133192389",
         "1131.0",
         "2.3911205073995774"
        ],
        [
         "29",
         "1.6875",
         "52.0",
         "4.703225806451613",
         "1.032258064516129",
         "395.0",
         "2.5483870967741935"
        ],
        [
         "30",
         "1.9274",
         "49.0",
         "5.068783068783069",
         "1.1825396825396826",
         "863.0",
         "2.2830687830687832"
        ],
        [
         "31",
         "1.9615",
         "52.0",
         "4.882086167800454",
         "1.090702947845805",
         "1168.0",
         "2.6485260770975056"
        ],
        [
         "32",
         "1.7969",
         "48.0",
         "5.737313432835821",
         "1.2208955223880598",
         "1026.0",
         "3.062686567164179"
        ],
        [
         "33",
         "1.375",
         "49.0",
         "5.0303951367781155",
         "1.1124620060790273",
         "754.0",
         "2.291793313069909"
        ],
        [
         "34",
         "2.7303",
         "51.0",
         "4.972014925373134",
         "1.0708955223880596",
         "1258.0",
         "2.3470149253731343"
        ],
        [
         "35",
         "1.4861",
         "49.0",
         "4.6022727272727275",
         "1.0681818181818181",
         "570.0",
         "2.159090909090909"
        ],
        [
         "36",
         "1.0972",
         "48.0",
         "4.807486631016043",
         "1.1550802139037433",
         "987.0",
         "2.6390374331550803"
        ],
        [
         "37",
         "1.4103",
         "52.0",
         "3.7493796526054592",
         "0.967741935483871",
         "901.0",
         "2.235732009925558"
        ],
        [
         "38",
         "3.48",
         "52.0",
         "4.757281553398058",
         "1.0679611650485437",
         "689.0",
         "2.2297734627831716"
        ],
        [
         "39",
         "2.5898",
         "52.0",
         "3.4942528735632186",
         "1.0272988505747127",
         "1377.0",
         "1.978448275862069"
        ],
        [
         "40",
         "2.0978",
         "52.0",
         "4.215189873417722",
         "1.0607594936708862",
         "946.0",
         "2.3949367088607594"
        ],
        [
         "41",
         "1.2852",
         "51.0",
         "3.7590361445783134",
         "1.248995983935743",
         "517.0",
         "2.076305220883534"
        ],
        [
         "42",
         "1.025",
         "49.0",
         "3.7724867724867726",
         "1.0687830687830688",
         "462.0",
         "2.4444444444444446"
        ],
        [
         "43",
         "3.9643",
         "52.0",
         "4.797979797979798",
         "1.02020202020202",
         "467.0",
         "2.3585858585858586"
        ],
        [
         "44",
         "3.0125",
         "52.0",
         "4.941780821917808",
         "1.0650684931506849",
         "660.0",
         "2.26027397260274"
        ],
        [
         "45",
         "2.6768",
         "52.0",
         "4.335078534031414",
         "1.0994764397905759",
         "718.0",
         "1.8795811518324608"
        ],
        [
         "46",
         "2.026",
         "50.0",
         "3.700657894736842",
         "1.0592105263157894",
         "616.0",
         "2.026315789473684"
        ],
        [
         "47",
         "1.7348",
         "43.0",
         "3.9802371541501977",
         "1.233201581027668",
         "558.0",
         "2.205533596837945"
        ],
        [
         "48",
         "0.9506",
         "40.0",
         "3.9",
         "1.21875",
         "423.0",
         "2.64375"
        ],
        [
         "49",
         "1.775",
         "40.0",
         "2.6875",
         "1.0653409090909092",
         "700.0",
         "1.9886363636363635"
        ]
       ],
       "shape": {
        "columns": 6,
        "rows": 19793
       }
      },
      "text/html": [
       "<div>\n",
       "<style scoped>\n",
       "    .dataframe tbody tr th:only-of-type {\n",
       "        vertical-align: middle;\n",
       "    }\n",
       "\n",
       "    .dataframe tbody tr th {\n",
       "        vertical-align: top;\n",
       "    }\n",
       "\n",
       "    .dataframe thead th {\n",
       "        text-align: right;\n",
       "    }\n",
       "</style>\n",
       "<table border=\"1\" class=\"dataframe\">\n",
       "  <thead>\n",
       "    <tr style=\"text-align: right;\">\n",
       "      <th></th>\n",
       "      <th>MedInc</th>\n",
       "      <th>HouseAge</th>\n",
       "      <th>AveRooms</th>\n",
       "      <th>AveBedrms</th>\n",
       "      <th>Population</th>\n",
       "      <th>AveOccup</th>\n",
       "    </tr>\n",
       "  </thead>\n",
       "  <tbody>\n",
       "    <tr>\n",
       "      <th>0</th>\n",
       "      <td>8.325200</td>\n",
       "      <td>41.000000</td>\n",
       "      <td>6.984127</td>\n",
       "      <td>1.023810</td>\n",
       "      <td>322.000000</td>\n",
       "      <td>2.555556</td>\n",
       "    </tr>\n",
       "    <tr>\n",
       "      <th>1</th>\n",
       "      <td>8.301400</td>\n",
       "      <td>21.000000</td>\n",
       "      <td>6.238137</td>\n",
       "      <td>0.971880</td>\n",
       "      <td>2401.000000</td>\n",
       "      <td>2.109842</td>\n",
       "    </tr>\n",
       "    <tr>\n",
       "      <th>2</th>\n",
       "      <td>7.257400</td>\n",
       "      <td>52.000000</td>\n",
       "      <td>8.288136</td>\n",
       "      <td>1.073446</td>\n",
       "      <td>496.000000</td>\n",
       "      <td>2.802260</td>\n",
       "    </tr>\n",
       "    <tr>\n",
       "      <th>3</th>\n",
       "      <td>5.643100</td>\n",
       "      <td>52.000000</td>\n",
       "      <td>5.817352</td>\n",
       "      <td>1.073059</td>\n",
       "      <td>558.000000</td>\n",
       "      <td>2.547945</td>\n",
       "    </tr>\n",
       "    <tr>\n",
       "      <th>4</th>\n",
       "      <td>3.846200</td>\n",
       "      <td>52.000000</td>\n",
       "      <td>6.281853</td>\n",
       "      <td>1.081081</td>\n",
       "      <td>565.000000</td>\n",
       "      <td>2.181467</td>\n",
       "    </tr>\n",
       "    <tr>\n",
       "      <th>...</th>\n",
       "      <td>...</td>\n",
       "      <td>...</td>\n",
       "      <td>...</td>\n",
       "      <td>...</td>\n",
       "      <td>...</td>\n",
       "      <td>...</td>\n",
       "    </tr>\n",
       "    <tr>\n",
       "      <th>20635</th>\n",
       "      <td>1.560300</td>\n",
       "      <td>25.000000</td>\n",
       "      <td>5.045455</td>\n",
       "      <td>1.133333</td>\n",
       "      <td>845.000000</td>\n",
       "      <td>2.560606</td>\n",
       "    </tr>\n",
       "    <tr>\n",
       "      <th>20636</th>\n",
       "      <td>2.556800</td>\n",
       "      <td>18.000000</td>\n",
       "      <td>6.114035</td>\n",
       "      <td>1.315789</td>\n",
       "      <td>356.000000</td>\n",
       "      <td>3.122807</td>\n",
       "    </tr>\n",
       "    <tr>\n",
       "      <th>20637</th>\n",
       "      <td>1.700000</td>\n",
       "      <td>17.000000</td>\n",
       "      <td>5.205543</td>\n",
       "      <td>1.120092</td>\n",
       "      <td>1007.000000</td>\n",
       "      <td>2.325635</td>\n",
       "    </tr>\n",
       "    <tr>\n",
       "      <th>20638</th>\n",
       "      <td>1.867200</td>\n",
       "      <td>18.000000</td>\n",
       "      <td>5.329513</td>\n",
       "      <td>1.171920</td>\n",
       "      <td>741.000000</td>\n",
       "      <td>2.123209</td>\n",
       "    </tr>\n",
       "    <tr>\n",
       "      <th>20639</th>\n",
       "      <td>2.388600</td>\n",
       "      <td>16.000000</td>\n",
       "      <td>5.254717</td>\n",
       "      <td>1.162264</td>\n",
       "      <td>1387.000000</td>\n",
       "      <td>2.616981</td>\n",
       "    </tr>\n",
       "  </tbody>\n",
       "</table>\n",
       "<p>19793 rows × 6 columns</p>\n",
       "</div>"
      ],
      "text/plain": [
       "        MedInc  HouseAge  AveRooms  AveBedrms  Population  AveOccup\n",
       "0     8.325200 41.000000  6.984127   1.023810  322.000000  2.555556\n",
       "1     8.301400 21.000000  6.238137   0.971880 2401.000000  2.109842\n",
       "2     7.257400 52.000000  8.288136   1.073446  496.000000  2.802260\n",
       "3     5.643100 52.000000  5.817352   1.073059  558.000000  2.547945\n",
       "4     3.846200 52.000000  6.281853   1.081081  565.000000  2.181467\n",
       "...        ...       ...       ...        ...         ...       ...\n",
       "20635 1.560300 25.000000  5.045455   1.133333  845.000000  2.560606\n",
       "20636 2.556800 18.000000  6.114035   1.315789  356.000000  3.122807\n",
       "20637 1.700000 17.000000  5.205543   1.120092 1007.000000  2.325635\n",
       "20638 1.867200 18.000000  5.329513   1.171920  741.000000  2.123209\n",
       "20639 2.388600 16.000000  5.254717   1.162264 1387.000000  2.616981\n",
       "\n",
       "[19793 rows x 6 columns]"
      ]
     },
     "execution_count": 15,
     "metadata": {},
     "output_type": "execute_result"
    }
   ],
   "source": [
    "X"
   ]
  },
  {
   "cell_type": "code",
   "execution_count": 17,
   "id": "307c1130",
   "metadata": {},
   "outputs": [
    {
     "data": {
      "text/html": [
       "<pre style=\"white-space:pre;overflow-x:auto;line-height:normal;font-family:Menlo,'DejaVu Sans Mono',consolas,'Courier New',monospace\">Mean Squared Error: <span style=\"color: #008080; text-decoration-color: #008080; font-weight: bold\">0.5179845233194796</span>\n",
       "</pre>\n"
      ],
      "text/plain": [
       "Mean Squared Error: \u001b[1;36m0.5179845233194796\u001b[0m\n"
      ]
     },
     "metadata": {},
     "output_type": "display_data"
    },
    {
     "data": {
      "text/html": [
       "<pre style=\"white-space:pre;overflow-x:auto;line-height:normal;font-family:Menlo,'DejaVu Sans Mono',consolas,'Courier New',monospace\">R-squared: <span style=\"color: #008080; text-decoration-color: #008080; font-weight: bold\">0.5757238500067341</span>\n",
       "</pre>\n"
      ],
      "text/plain": [
       "R-squared: \u001b[1;36m0.5757238500067341\u001b[0m\n"
      ]
     },
     "metadata": {},
     "output_type": "display_data"
    }
   ],
   "source": [
    "# Split the dataset into training and testing sets\n",
    "X_train, X_test, y_train, y_test = train_test_split(X, y, test_size=0.3, random_state=9)\n",
    "\n",
    "# Initialize the Linear Regression model\n",
    "model = LinearRegression()\n",
    "\n",
    "# Train the model on the training data\n",
    "model.fit(X_train, y_train)\n",
    "\n",
    "# Make predictions on the test data\n",
    "y_pred = model.predict(X_test)\n",
    "\n",
    "# Evaluate the model\n",
    "mse = mean_squared_error(y_test, y_pred)\n",
    "r2 = r2_score(y_test, y_pred)\n",
    "\n",
    "print(f\"Mean Squared Error: {mse}\")\n",
    "print(f\"R-squared: {r2}\")\n",
    "dict_experiment_metrics['no_outliers']={'MSE':mse,'r2':r2}"
   ]
  },
  {
   "cell_type": "code",
   "execution_count": 55,
   "id": "3b7b9d79",
   "metadata": {},
   "outputs": [
    {
     "data": {
      "text/html": [
       "<pre style=\"white-space:pre;overflow-x:auto;line-height:normal;font-family:Menlo,'DejaVu Sans Mono',consolas,'Courier New',monospace\">        Actual  Predicted  Residuals\n",
       "<span style=\"color: #008080; text-decoration-color: #008080; font-weight: bold\">12138</span> <span style=\"color: #008080; text-decoration-color: #008080; font-weight: bold\">5.000010</span>   <span style=\"color: #008080; text-decoration-color: #008080; font-weight: bold\">0.440443</span>   <span style=\"color: #008080; text-decoration-color: #008080; font-weight: bold\">4.559567</span>\n",
       "<span style=\"color: #008080; text-decoration-color: #008080; font-weight: bold\">1633</span>  <span style=\"color: #008080; text-decoration-color: #008080; font-weight: bold\">4.750000</span>   <span style=\"color: #008080; text-decoration-color: #008080; font-weight: bold\">0.428992</span>   <span style=\"color: #008080; text-decoration-color: #008080; font-weight: bold\">4.321008</span>\n",
       "<span style=\"color: #008080; text-decoration-color: #008080; font-weight: bold\">10574</span> <span style=\"color: #008080; text-decoration-color: #008080; font-weight: bold\">5.000010</span>   <span style=\"color: #008080; text-decoration-color: #008080; font-weight: bold\">0.679009</span>   <span style=\"color: #008080; text-decoration-color: #008080; font-weight: bold\">4.321001</span>\n",
       "<span style=\"color: #008080; text-decoration-color: #008080; font-weight: bold\">4093</span>  <span style=\"color: #008080; text-decoration-color: #008080; font-weight: bold\">3.750000</span>  <span style=\"color: #008080; text-decoration-color: #008080; font-weight: bold\">-0.418663</span>   <span style=\"color: #008080; text-decoration-color: #008080; font-weight: bold\">4.168663</span>\n",
       "<span style=\"color: #008080; text-decoration-color: #008080; font-weight: bold\">18464</span> <span style=\"color: #008080; text-decoration-color: #008080; font-weight: bold\">5.000010</span>   <span style=\"color: #008080; text-decoration-color: #008080; font-weight: bold\">0.987991</span>   <span style=\"color: #008080; text-decoration-color: #008080; font-weight: bold\">4.012019</span>\n",
       "<span style=\"color: #008080; text-decoration-color: #008080; font-weight: bold\">12069</span> <span style=\"color: #008080; text-decoration-color: #008080; font-weight: bold\">5.000010</span>   <span style=\"color: #008080; text-decoration-color: #008080; font-weight: bold\">1.050289</span>   <span style=\"color: #008080; text-decoration-color: #008080; font-weight: bold\">3.949721</span>\n",
       "<span style=\"color: #008080; text-decoration-color: #008080; font-weight: bold\">17306</span> <span style=\"color: #008080; text-decoration-color: #008080; font-weight: bold\">5.000010</span>   <span style=\"color: #008080; text-decoration-color: #008080; font-weight: bold\">1.196624</span>   <span style=\"color: #008080; text-decoration-color: #008080; font-weight: bold\">3.803386</span>\n",
       "<span style=\"color: #008080; text-decoration-color: #008080; font-weight: bold\">12220</span> <span style=\"color: #008080; text-decoration-color: #008080; font-weight: bold\">5.000010</span>   <span style=\"color: #008080; text-decoration-color: #008080; font-weight: bold\">1.232844</span>   <span style=\"color: #008080; text-decoration-color: #008080; font-weight: bold\">3.767166</span>\n",
       "<span style=\"color: #008080; text-decoration-color: #008080; font-weight: bold\">20527</span> <span style=\"color: #008080; text-decoration-color: #008080; font-weight: bold\">3.100000</span>  <span style=\"color: #008080; text-decoration-color: #008080; font-weight: bold\">-0.586537</span>   <span style=\"color: #008080; text-decoration-color: #008080; font-weight: bold\">3.686537</span>\n",
       "<span style=\"color: #008080; text-decoration-color: #008080; font-weight: bold\">16672</span> <span style=\"color: #008080; text-decoration-color: #008080; font-weight: bold\">0.425000</span>  <span style=\"color: #008080; text-decoration-color: #008080; font-weight: bold\">-3.185456</span>   <span style=\"color: #008080; text-decoration-color: #008080; font-weight: bold\">3.610456</span>\n",
       "</pre>\n"
      ],
      "text/plain": [
       "        Actual  Predicted  Residuals\n",
       "\u001b[1;36m12138\u001b[0m \u001b[1;36m5.000010\u001b[0m   \u001b[1;36m0.440443\u001b[0m   \u001b[1;36m4.559567\u001b[0m\n",
       "\u001b[1;36m1633\u001b[0m  \u001b[1;36m4.750000\u001b[0m   \u001b[1;36m0.428992\u001b[0m   \u001b[1;36m4.321008\u001b[0m\n",
       "\u001b[1;36m10574\u001b[0m \u001b[1;36m5.000010\u001b[0m   \u001b[1;36m0.679009\u001b[0m   \u001b[1;36m4.321001\u001b[0m\n",
       "\u001b[1;36m4093\u001b[0m  \u001b[1;36m3.750000\u001b[0m  \u001b[1;36m-0.418663\u001b[0m   \u001b[1;36m4.168663\u001b[0m\n",
       "\u001b[1;36m18464\u001b[0m \u001b[1;36m5.000010\u001b[0m   \u001b[1;36m0.987991\u001b[0m   \u001b[1;36m4.012019\u001b[0m\n",
       "\u001b[1;36m12069\u001b[0m \u001b[1;36m5.000010\u001b[0m   \u001b[1;36m1.050289\u001b[0m   \u001b[1;36m3.949721\u001b[0m\n",
       "\u001b[1;36m17306\u001b[0m \u001b[1;36m5.000010\u001b[0m   \u001b[1;36m1.196624\u001b[0m   \u001b[1;36m3.803386\u001b[0m\n",
       "\u001b[1;36m12220\u001b[0m \u001b[1;36m5.000010\u001b[0m   \u001b[1;36m1.232844\u001b[0m   \u001b[1;36m3.767166\u001b[0m\n",
       "\u001b[1;36m20527\u001b[0m \u001b[1;36m3.100000\u001b[0m  \u001b[1;36m-0.586537\u001b[0m   \u001b[1;36m3.686537\u001b[0m\n",
       "\u001b[1;36m16672\u001b[0m \u001b[1;36m0.425000\u001b[0m  \u001b[1;36m-3.185456\u001b[0m   \u001b[1;36m3.610456\u001b[0m\n"
      ]
     },
     "metadata": {},
     "output_type": "display_data"
    }
   ],
   "source": [
    "#find the rows where the predicted value is greater than the actual value\n",
    "residuals = y_test - y_pred\n",
    "residuals_df = pd.DataFrame({'Actual': y_test, 'Predicted': y_pred, 'Residuals': residuals})\n",
    "residuals_df = residuals_df[residuals_df['Residuals'] > 0]\n",
    "residuals_df = residuals_df.sort_values(by='Residuals', ascending=False)\n",
    "print(residuals_df.head(10))"
   ]
  },
  {
   "cell_type": "code",
   "execution_count": 56,
   "id": "dd6e0cec",
   "metadata": {},
   "outputs": [
    {
     "data": {
      "text/plain": [
       "MedInc          1.656300\n",
       "HouseAge       16.000000\n",
       "AveRooms        5.125000\n",
       "AveBedrms       0.937500\n",
       "Population    542.000000\n",
       "AveOccup       16.937500\n",
       "Latitude       35.340000\n",
       "Longitude    -120.690000\n",
       "Target          0.425000\n",
       "Name: 16672, dtype: float64"
      ]
     },
     "execution_count": 56,
     "metadata": {},
     "output_type": "execute_result"
    }
   ],
   "source": [
    "df_no_outliers.loc[16672]"
   ]
  },
  {
   "cell_type": "code",
   "execution_count": 33,
   "id": "72396e99",
   "metadata": {},
   "outputs": [
    {
     "data": {
      "application/vnd.microsoft.datawrangler.viewer.v0+json": {
       "columns": [
        {
         "name": "index",
         "rawType": "int64",
         "type": "integer"
        },
        {
         "name": "Target",
         "rawType": "float64",
         "type": "float"
        },
        {
         "name": "MedInc",
         "rawType": "float64",
         "type": "float"
        },
        {
         "name": "HouseAge",
         "rawType": "float64",
         "type": "float"
        },
        {
         "name": "AveRooms",
         "rawType": "float64",
         "type": "float"
        },
        {
         "name": "AveOccup",
         "rawType": "float64",
         "type": "float"
        }
       ],
       "conversionMethod": "pd.DataFrame",
       "ref": "e14c2868-49f9-4bfb-ba1b-2756e10ab84c",
       "rows": [
        [
         "13366",
         "1.833",
         "4.2578",
         "36.0",
         "5.258823529411765",
         "33.95294117647059"
        ],
        [
         "12138",
         "5.00001",
         "2.625",
         "16.0",
         "4.0",
         "2.7857142857142856"
        ],
        [
         "19524",
         "1.625",
         "0.9573",
         "19.0",
         "2.951219512195122",
         "16.048780487804876"
        ],
        [
         "10574",
         "5.00001",
         "1.9659",
         "6.0",
         "4.795454545454546",
         "2.840909090909091"
        ],
        [
         "20527",
         "3.1",
         "1.4653",
         "7.0",
         "3.5257936507936507",
         "8.886904761904763"
        ],
        [
         "13766",
         "5.00001",
         "3.0625",
         "34.0",
         "3.2142857142857144",
         "2.7857142857142856"
        ],
        [
         "1633",
         "4.75",
         "2.4444",
         "20.0",
         "6.333333333333333",
         "2.066666666666667"
        ],
        [
         "12069",
         "5.00001",
         "4.2386",
         "6.0",
         "7.723076923076923",
         "3.5076923076923077"
        ],
        [
         "12458",
         "2.75",
         "0.536",
         "26.0",
         "6.0",
         "1.6666666666666667"
        ],
        [
         "18464",
         "5.00001",
         "4.2039",
         "11.0",
         "6.7539267015706805",
         "4.612565445026178"
        ]
       ],
       "shape": {
        "columns": 5,
        "rows": 10
       }
      },
      "text/html": [
       "<div>\n",
       "<style scoped>\n",
       "    .dataframe tbody tr th:only-of-type {\n",
       "        vertical-align: middle;\n",
       "    }\n",
       "\n",
       "    .dataframe tbody tr th {\n",
       "        vertical-align: top;\n",
       "    }\n",
       "\n",
       "    .dataframe thead th {\n",
       "        text-align: right;\n",
       "    }\n",
       "</style>\n",
       "<table border=\"1\" class=\"dataframe\">\n",
       "  <thead>\n",
       "    <tr style=\"text-align: right;\">\n",
       "      <th></th>\n",
       "      <th>Target</th>\n",
       "      <th>MedInc</th>\n",
       "      <th>HouseAge</th>\n",
       "      <th>AveRooms</th>\n",
       "      <th>AveOccup</th>\n",
       "    </tr>\n",
       "  </thead>\n",
       "  <tbody>\n",
       "    <tr>\n",
       "      <th>13366</th>\n",
       "      <td>1.833000</td>\n",
       "      <td>4.257800</td>\n",
       "      <td>36.000000</td>\n",
       "      <td>5.258824</td>\n",
       "      <td>33.952941</td>\n",
       "    </tr>\n",
       "    <tr>\n",
       "      <th>12138</th>\n",
       "      <td>5.000010</td>\n",
       "      <td>2.625000</td>\n",
       "      <td>16.000000</td>\n",
       "      <td>4.000000</td>\n",
       "      <td>2.785714</td>\n",
       "    </tr>\n",
       "    <tr>\n",
       "      <th>19524</th>\n",
       "      <td>1.625000</td>\n",
       "      <td>0.957300</td>\n",
       "      <td>19.000000</td>\n",
       "      <td>2.951220</td>\n",
       "      <td>16.048780</td>\n",
       "    </tr>\n",
       "    <tr>\n",
       "      <th>10574</th>\n",
       "      <td>5.000010</td>\n",
       "      <td>1.965900</td>\n",
       "      <td>6.000000</td>\n",
       "      <td>4.795455</td>\n",
       "      <td>2.840909</td>\n",
       "    </tr>\n",
       "    <tr>\n",
       "      <th>20527</th>\n",
       "      <td>3.100000</td>\n",
       "      <td>1.465300</td>\n",
       "      <td>7.000000</td>\n",
       "      <td>3.525794</td>\n",
       "      <td>8.886905</td>\n",
       "    </tr>\n",
       "    <tr>\n",
       "      <th>13766</th>\n",
       "      <td>5.000010</td>\n",
       "      <td>3.062500</td>\n",
       "      <td>34.000000</td>\n",
       "      <td>3.214286</td>\n",
       "      <td>2.785714</td>\n",
       "    </tr>\n",
       "    <tr>\n",
       "      <th>1633</th>\n",
       "      <td>4.750000</td>\n",
       "      <td>2.444400</td>\n",
       "      <td>20.000000</td>\n",
       "      <td>6.333333</td>\n",
       "      <td>2.066667</td>\n",
       "    </tr>\n",
       "    <tr>\n",
       "      <th>12069</th>\n",
       "      <td>5.000010</td>\n",
       "      <td>4.238600</td>\n",
       "      <td>6.000000</td>\n",
       "      <td>7.723077</td>\n",
       "      <td>3.507692</td>\n",
       "    </tr>\n",
       "    <tr>\n",
       "      <th>12458</th>\n",
       "      <td>2.750000</td>\n",
       "      <td>0.536000</td>\n",
       "      <td>26.000000</td>\n",
       "      <td>6.000000</td>\n",
       "      <td>1.666667</td>\n",
       "    </tr>\n",
       "    <tr>\n",
       "      <th>18464</th>\n",
       "      <td>5.000010</td>\n",
       "      <td>4.203900</td>\n",
       "      <td>11.000000</td>\n",
       "      <td>6.753927</td>\n",
       "      <td>4.612565</td>\n",
       "    </tr>\n",
       "  </tbody>\n",
       "</table>\n",
       "</div>"
      ],
      "text/plain": [
       "        Target   MedInc  HouseAge  AveRooms  AveOccup\n",
       "13366 1.833000 4.257800 36.000000  5.258824 33.952941\n",
       "12138 5.000010 2.625000 16.000000  4.000000  2.785714\n",
       "19524 1.625000 0.957300 19.000000  2.951220 16.048780\n",
       "10574 5.000010 1.965900  6.000000  4.795455  2.840909\n",
       "20527 3.100000 1.465300  7.000000  3.525794  8.886905\n",
       "13766 5.000010 3.062500 34.000000  3.214286  2.785714\n",
       "1633  4.750000 2.444400 20.000000  6.333333  2.066667\n",
       "12069 5.000010 4.238600  6.000000  7.723077  3.507692\n",
       "12458 2.750000 0.536000 26.000000  6.000000  1.666667\n",
       "18464 5.000010 4.203900 11.000000  6.753927  4.612565"
      ]
     },
     "execution_count": 33,
     "metadata": {},
     "output_type": "execute_result"
    }
   ],
   "source": [
    "df_no_outliers.loc[residuals_df.index, ['Target', 'MedInc', 'HouseAge', 'AveRooms', 'AveOccup']].head(10)"
   ]
  },
  {
   "cell_type": "code",
   "execution_count": 30,
   "id": "1594ff2b",
   "metadata": {},
   "outputs": [
    {
     "data": {
      "text/html": [
       "<pre style=\"white-space:pre;overflow-x:auto;line-height:normal;font-family:Menlo,'DejaVu Sans Mono',consolas,'Courier New',monospace\">Feature <span style=\"color: #008000; text-decoration-color: #008000\">'MedInc'</span>:\n",
       "</pre>\n"
      ],
      "text/plain": [
       "Feature \u001b[32m'MedInc'\u001b[0m:\n"
      ]
     },
     "metadata": {},
     "output_type": "display_data"
    },
    {
     "data": {
      "text/html": [
       "<pre style=\"white-space:pre;overflow-x:auto;line-height:normal;font-family:Menlo,'DejaVu Sans Mono',consolas,'Courier New',monospace\">  - Quartiles: <span style=\"color: #808000; text-decoration-color: #808000\">Q1</span>=<span style=\"color: #008080; text-decoration-color: #008080; font-weight: bold\">2.5444</span>, <span style=\"color: #808000; text-decoration-color: #808000\">Q3</span>=<span style=\"color: #008080; text-decoration-color: #008080; font-weight: bold\">4.6612</span>, <span style=\"color: #808000; text-decoration-color: #808000\">IQR</span>=<span style=\"color: #008080; text-decoration-color: #008080; font-weight: bold\">2.1168</span>\n",
       "</pre>\n"
      ],
      "text/plain": [
       "  - Quartiles: \u001b[33mQ1\u001b[0m=\u001b[1;36m2\u001b[0m\u001b[1;36m.5444\u001b[0m, \u001b[33mQ3\u001b[0m=\u001b[1;36m4\u001b[0m\u001b[1;36m.6612\u001b[0m, \u001b[33mIQR\u001b[0m=\u001b[1;36m2\u001b[0m\u001b[1;36m.1168\u001b[0m\n"
      ]
     },
     "metadata": {},
     "output_type": "display_data"
    },
    {
     "data": {
      "text/html": [
       "<pre style=\"white-space:pre;overflow-x:auto;line-height:normal;font-family:Menlo,'DejaVu Sans Mono',consolas,'Courier New',monospace\">  - Bounds: <span style=\"color: #808000; text-decoration-color: #808000\">Lower</span>=<span style=\"color: #008080; text-decoration-color: #008080; font-weight: bold\">-0.6309</span>, <span style=\"color: #808000; text-decoration-color: #808000\">Upper</span>=<span style=\"color: #008080; text-decoration-color: #008080; font-weight: bold\">7.8365</span>\n",
       "</pre>\n"
      ],
      "text/plain": [
       "  - Bounds: \u001b[33mLower\u001b[0m=\u001b[1;36m-0.6309\u001b[0m, \u001b[33mUpper\u001b[0m=\u001b[1;36m7\u001b[0m\u001b[1;36m.8365\u001b[0m\n"
      ]
     },
     "metadata": {},
     "output_type": "display_data"
    },
    {
     "data": {
      "text/html": [
       "<pre style=\"white-space:pre;overflow-x:auto;line-height:normal;font-family:Menlo,'DejaVu Sans Mono',consolas,'Courier New',monospace\">  - Outliers: <span style=\"color: #008080; text-decoration-color: #008080; font-weight: bold\">411</span> <span style=\"font-weight: bold\">(</span><span style=\"color: #008080; text-decoration-color: #008080; font-weight: bold\">1.99</span>%<span style=\"font-weight: bold\">)</span>\n",
       "</pre>\n"
      ],
      "text/plain": [
       "  - Outliers: \u001b[1;36m411\u001b[0m \u001b[1m(\u001b[0m\u001b[1;36m1.99\u001b[0m%\u001b[1m)\u001b[0m\n"
      ]
     },
     "metadata": {},
     "output_type": "display_data"
    },
    {
     "data": {
      "image/png": "[encoded data removed]",
      "text/plain": [
       "<Figure size 1000x600 with 1 Axes>"
      ]
     },
     "metadata": {},
     "output_type": "display_data"
    },
    {
     "data": {
      "text/html": [
       "<pre style=\"white-space:pre;overflow-x:auto;line-height:normal;font-family:Menlo,'DejaVu Sans Mono',consolas,'Courier New',monospace\">Feature <span style=\"color: #008000; text-decoration-color: #008000\">'HouseAge'</span>:\n",
       "</pre>\n"
      ],
      "text/plain": [
       "Feature \u001b[32m'HouseAge'\u001b[0m:\n"
      ]
     },
     "metadata": {},
     "output_type": "display_data"
    },
    {
     "data": {
      "text/html": [
       "<pre style=\"white-space:pre;overflow-x:auto;line-height:normal;font-family:Menlo,'DejaVu Sans Mono',consolas,'Courier New',monospace\">  - Quartiles: <span style=\"color: #808000; text-decoration-color: #808000\">Q1</span>=<span style=\"color: #008080; text-decoration-color: #008080; font-weight: bold\">19.0000</span>, <span style=\"color: #808000; text-decoration-color: #808000\">Q3</span>=<span style=\"color: #008080; text-decoration-color: #008080; font-weight: bold\">37.0000</span>, <span style=\"color: #808000; text-decoration-color: #808000\">IQR</span>=<span style=\"color: #008080; text-decoration-color: #008080; font-weight: bold\">18.0000</span>\n",
       "</pre>\n"
      ],
      "text/plain": [
       "  - Quartiles: \u001b[33mQ1\u001b[0m=\u001b[1;36m19\u001b[0m\u001b[1;36m.0000\u001b[0m, \u001b[33mQ3\u001b[0m=\u001b[1;36m37\u001b[0m\u001b[1;36m.0000\u001b[0m, \u001b[33mIQR\u001b[0m=\u001b[1;36m18\u001b[0m\u001b[1;36m.0000\u001b[0m\n"
      ]
     },
     "metadata": {},
     "output_type": "display_data"
    },
    {
     "data": {
      "text/html": [
       "<pre style=\"white-space:pre;overflow-x:auto;line-height:normal;font-family:Menlo,'DejaVu Sans Mono',consolas,'Courier New',monospace\">  - Bounds: <span style=\"color: #808000; text-decoration-color: #808000\">Lower</span>=<span style=\"color: #008080; text-decoration-color: #008080; font-weight: bold\">-8.0000</span>, <span style=\"color: #808000; text-decoration-color: #808000\">Upper</span>=<span style=\"color: #008080; text-decoration-color: #008080; font-weight: bold\">64.0000</span>\n",
       "</pre>\n"
      ],
      "text/plain": [
       "  - Bounds: \u001b[33mLower\u001b[0m=\u001b[1;36m-8.0000\u001b[0m, \u001b[33mUpper\u001b[0m=\u001b[1;36m64\u001b[0m\u001b[1;36m.0000\u001b[0m\n"
      ]
     },
     "metadata": {},
     "output_type": "display_data"
    },
    {
     "data": {
      "text/html": [
       "<pre style=\"white-space:pre;overflow-x:auto;line-height:normal;font-family:Menlo,'DejaVu Sans Mono',consolas,'Courier New',monospace\">  - Outliers: <span style=\"color: #008080; text-decoration-color: #008080; font-weight: bold\">0</span> <span style=\"font-weight: bold\">(</span><span style=\"color: #008080; text-decoration-color: #008080; font-weight: bold\">0.00</span>%<span style=\"font-weight: bold\">)</span>\n",
       "</pre>\n"
      ],
      "text/plain": [
       "  - Outliers: \u001b[1;36m0\u001b[0m \u001b[1m(\u001b[0m\u001b[1;36m0.00\u001b[0m%\u001b[1m)\u001b[0m\n"
      ]
     },
     "metadata": {},
     "output_type": "display_data"
    },
    {
     "data": {
      "image/png": "[encoded data removed]",
      "text/plain": [
       "<Figure size 1000x600 with 1 Axes>"
      ]
     },
     "metadata": {},
     "output_type": "display_data"
    },
    {
     "data": {
      "text/html": [
       "<pre style=\"white-space:pre;overflow-x:auto;line-height:normal;font-family:Menlo,'DejaVu Sans Mono',consolas,'Courier New',monospace\">Feature <span style=\"color: #008000; text-decoration-color: #008000\">'AveRooms'</span>:\n",
       "</pre>\n"
      ],
      "text/plain": [
       "Feature \u001b[32m'AveRooms'\u001b[0m:\n"
      ]
     },
     "metadata": {},
     "output_type": "display_data"
    },
    {
     "data": {
      "text/html": [
       "<pre style=\"white-space:pre;overflow-x:auto;line-height:normal;font-family:Menlo,'DejaVu Sans Mono',consolas,'Courier New',monospace\">  - Quartiles: <span style=\"color: #808000; text-decoration-color: #808000\">Q1</span>=<span style=\"color: #008080; text-decoration-color: #008080; font-weight: bold\">4.4174</span>, <span style=\"color: #808000; text-decoration-color: #808000\">Q3</span>=<span style=\"color: #008080; text-decoration-color: #008080; font-weight: bold\">5.9708</span>, <span style=\"color: #808000; text-decoration-color: #808000\">IQR</span>=<span style=\"color: #008080; text-decoration-color: #008080; font-weight: bold\">1.5534</span>\n",
       "</pre>\n"
      ],
      "text/plain": [
       "  - Quartiles: \u001b[33mQ1\u001b[0m=\u001b[1;36m4\u001b[0m\u001b[1;36m.4174\u001b[0m, \u001b[33mQ3\u001b[0m=\u001b[1;36m5\u001b[0m\u001b[1;36m.9708\u001b[0m, \u001b[33mIQR\u001b[0m=\u001b[1;36m1\u001b[0m\u001b[1;36m.5534\u001b[0m\n"
      ]
     },
     "metadata": {},
     "output_type": "display_data"
    },
    {
     "data": {
      "text/html": [
       "<pre style=\"white-space:pre;overflow-x:auto;line-height:normal;font-family:Menlo,'DejaVu Sans Mono',consolas,'Courier New',monospace\">  - Bounds: <span style=\"color: #808000; text-decoration-color: #808000\">Lower</span>=<span style=\"color: #008080; text-decoration-color: #008080; font-weight: bold\">2.0873</span>, <span style=\"color: #808000; text-decoration-color: #808000\">Upper</span>=<span style=\"color: #008080; text-decoration-color: #008080; font-weight: bold\">8.3010</span>\n",
       "</pre>\n"
      ],
      "text/plain": [
       "  - Bounds: \u001b[33mLower\u001b[0m=\u001b[1;36m2\u001b[0m\u001b[1;36m.0873\u001b[0m, \u001b[33mUpper\u001b[0m=\u001b[1;36m8\u001b[0m\u001b[1;36m.3010\u001b[0m\n"
      ]
     },
     "metadata": {},
     "output_type": "display_data"
    },
    {
     "data": {
      "text/html": [
       "<pre style=\"white-space:pre;overflow-x:auto;line-height:normal;font-family:Menlo,'DejaVu Sans Mono',consolas,'Courier New',monospace\">  - Outliers: <span style=\"color: #008080; text-decoration-color: #008080; font-weight: bold\">306</span> <span style=\"font-weight: bold\">(</span><span style=\"color: #008080; text-decoration-color: #008080; font-weight: bold\">1.48</span>%<span style=\"font-weight: bold\">)</span>\n",
       "</pre>\n"
      ],
      "text/plain": [
       "  - Outliers: \u001b[1;36m306\u001b[0m \u001b[1m(\u001b[0m\u001b[1;36m1.48\u001b[0m%\u001b[1m)\u001b[0m\n"
      ]
     },
     "metadata": {},
     "output_type": "display_data"
    },
    {
     "data": {
      "image/png": "[encoded data removed]",
      "text/plain": [
       "<Figure size 1000x600 with 1 Axes>"
      ]
     },
     "metadata": {},
     "output_type": "display_data"
    },
    {
     "data": {
      "text/html": [
       "<pre style=\"white-space:pre;overflow-x:auto;line-height:normal;font-family:Menlo,'DejaVu Sans Mono',consolas,'Courier New',monospace\">Feature <span style=\"color: #008000; text-decoration-color: #008000\">'AveBedrms'</span>:\n",
       "</pre>\n"
      ],
      "text/plain": [
       "Feature \u001b[32m'AveBedrms'\u001b[0m:\n"
      ]
     },
     "metadata": {},
     "output_type": "display_data"
    },
    {
     "data": {
      "text/html": [
       "<pre style=\"white-space:pre;overflow-x:auto;line-height:normal;font-family:Menlo,'DejaVu Sans Mono',consolas,'Courier New',monospace\">  - Quartiles: <span style=\"color: #808000; text-decoration-color: #808000\">Q1</span>=<span style=\"color: #008080; text-decoration-color: #008080; font-weight: bold\">1.0054</span>, <span style=\"color: #808000; text-decoration-color: #808000\">Q3</span>=<span style=\"color: #008080; text-decoration-color: #008080; font-weight: bold\">1.0983</span>, <span style=\"color: #808000; text-decoration-color: #808000\">IQR</span>=<span style=\"color: #008080; text-decoration-color: #008080; font-weight: bold\">0.0928</span>\n",
       "</pre>\n"
      ],
      "text/plain": [
       "  - Quartiles: \u001b[33mQ1\u001b[0m=\u001b[1;36m1\u001b[0m\u001b[1;36m.0054\u001b[0m, \u001b[33mQ3\u001b[0m=\u001b[1;36m1\u001b[0m\u001b[1;36m.0983\u001b[0m, \u001b[33mIQR\u001b[0m=\u001b[1;36m0\u001b[0m\u001b[1;36m.0928\u001b[0m\n"
      ]
     },
     "metadata": {},
     "output_type": "display_data"
    },
    {
     "data": {
      "text/html": [
       "<pre style=\"white-space:pre;overflow-x:auto;line-height:normal;font-family:Menlo,'DejaVu Sans Mono',consolas,'Courier New',monospace\">  - Bounds: <span style=\"color: #808000; text-decoration-color: #808000\">Lower</span>=<span style=\"color: #008080; text-decoration-color: #008080; font-weight: bold\">0.8662</span>, <span style=\"color: #808000; text-decoration-color: #808000\">Upper</span>=<span style=\"color: #008080; text-decoration-color: #008080; font-weight: bold\">1.2375</span>\n",
       "</pre>\n"
      ],
      "text/plain": [
       "  - Bounds: \u001b[33mLower\u001b[0m=\u001b[1;36m0\u001b[0m\u001b[1;36m.8662\u001b[0m, \u001b[33mUpper\u001b[0m=\u001b[1;36m1\u001b[0m\u001b[1;36m.2375\u001b[0m\n"
      ]
     },
     "metadata": {},
     "output_type": "display_data"
    },
    {
     "data": {
      "text/html": [
       "<pre style=\"white-space:pre;overflow-x:auto;line-height:normal;font-family:Menlo,'DejaVu Sans Mono',consolas,'Courier New',monospace\">  - Outliers: <span style=\"color: #008080; text-decoration-color: #008080; font-weight: bold\">1254</span> <span style=\"font-weight: bold\">(</span><span style=\"color: #008080; text-decoration-color: #008080; font-weight: bold\">6.08</span>%<span style=\"font-weight: bold\">)</span>\n",
       "</pre>\n"
      ],
      "text/plain": [
       "  - Outliers: \u001b[1;36m1254\u001b[0m \u001b[1m(\u001b[0m\u001b[1;36m6.08\u001b[0m%\u001b[1m)\u001b[0m\n"
      ]
     },
     "metadata": {},
     "output_type": "display_data"
    },
    {
     "data": {
      "image/png": "[encoded data removed]",
      "text/plain": [
       "<Figure size 1000x600 with 1 Axes>"
      ]
     },
     "metadata": {},
     "output_type": "display_data"
    },
    {
     "data": {
      "text/html": [
       "<pre style=\"white-space:pre;overflow-x:auto;line-height:normal;font-family:Menlo,'DejaVu Sans Mono',consolas,'Courier New',monospace\">Feature <span style=\"color: #008000; text-decoration-color: #008000\">'Population'</span>:\n",
       "</pre>\n"
      ],
      "text/plain": [
       "Feature \u001b[32m'Population'\u001b[0m:\n"
      ]
     },
     "metadata": {},
     "output_type": "display_data"
    },
    {
     "data": {
      "text/html": [
       "<pre style=\"white-space:pre;overflow-x:auto;line-height:normal;font-family:Menlo,'DejaVu Sans Mono',consolas,'Courier New',monospace\">  - Quartiles: <span style=\"color: #808000; text-decoration-color: #808000\">Q1</span>=<span style=\"color: #008080; text-decoration-color: #008080; font-weight: bold\">792.0000</span>, <span style=\"color: #808000; text-decoration-color: #808000\">Q3</span>=<span style=\"color: #008080; text-decoration-color: #008080; font-weight: bold\">1696.0000</span>, <span style=\"color: #808000; text-decoration-color: #808000\">IQR</span>=<span style=\"color: #008080; text-decoration-color: #008080; font-weight: bold\">904.0000</span>\n",
       "</pre>\n"
      ],
      "text/plain": [
       "  - Quartiles: \u001b[33mQ1\u001b[0m=\u001b[1;36m792\u001b[0m\u001b[1;36m.0000\u001b[0m, \u001b[33mQ3\u001b[0m=\u001b[1;36m1696\u001b[0m\u001b[1;36m.0000\u001b[0m, \u001b[33mIQR\u001b[0m=\u001b[1;36m904\u001b[0m\u001b[1;36m.0000\u001b[0m\n"
      ]
     },
     "metadata": {},
     "output_type": "display_data"
    },
    {
     "data": {
      "text/html": [
       "<pre style=\"white-space:pre;overflow-x:auto;line-height:normal;font-family:Menlo,'DejaVu Sans Mono',consolas,'Courier New',monospace\">  - Bounds: <span style=\"color: #808000; text-decoration-color: #808000\">Lower</span>=<span style=\"color: #008080; text-decoration-color: #008080; font-weight: bold\">-564.0000</span>, <span style=\"color: #808000; text-decoration-color: #808000\">Upper</span>=<span style=\"color: #008080; text-decoration-color: #008080; font-weight: bold\">3052.0000</span>\n",
       "</pre>\n"
      ],
      "text/plain": [
       "  - Bounds: \u001b[33mLower\u001b[0m=\u001b[1;36m-564.0000\u001b[0m, \u001b[33mUpper\u001b[0m=\u001b[1;36m3052\u001b[0m\u001b[1;36m.0000\u001b[0m\n"
      ]
     },
     "metadata": {},
     "output_type": "display_data"
    },
    {
     "data": {
      "text/html": [
       "<pre style=\"white-space:pre;overflow-x:auto;line-height:normal;font-family:Menlo,'DejaVu Sans Mono',consolas,'Courier New',monospace\">  - Outliers: <span style=\"color: #008080; text-decoration-color: #008080; font-weight: bold\">928</span> <span style=\"font-weight: bold\">(</span><span style=\"color: #008080; text-decoration-color: #008080; font-weight: bold\">4.50</span>%<span style=\"font-weight: bold\">)</span>\n",
       "</pre>\n"
      ],
      "text/plain": [
       "  - Outliers: \u001b[1;36m928\u001b[0m \u001b[1m(\u001b[0m\u001b[1;36m4.50\u001b[0m%\u001b[1m)\u001b[0m\n"
      ]
     },
     "metadata": {},
     "output_type": "display_data"
    },
    {
     "data": {
      "image/png": "[encoded data removed]",
      "text/plain": [
       "<Figure size 1000x600 with 1 Axes>"
      ]
     },
     "metadata": {},
     "output_type": "display_data"
    },
    {
     "data": {
      "text/html": [
       "<pre style=\"white-space:pre;overflow-x:auto;line-height:normal;font-family:Menlo,'DejaVu Sans Mono',consolas,'Courier New',monospace\">Feature <span style=\"color: #008000; text-decoration-color: #008000\">'AveOccup'</span>:\n",
       "</pre>\n"
      ],
      "text/plain": [
       "Feature \u001b[32m'AveOccup'\u001b[0m:\n"
      ]
     },
     "metadata": {},
     "output_type": "display_data"
    },
    {
     "data": {
      "text/html": [
       "<pre style=\"white-space:pre;overflow-x:auto;line-height:normal;font-family:Menlo,'DejaVu Sans Mono',consolas,'Courier New',monospace\">  - Quartiles: <span style=\"color: #808000; text-decoration-color: #808000\">Q1</span>=<span style=\"color: #008080; text-decoration-color: #008080; font-weight: bold\">2.4265</span>, <span style=\"color: #808000; text-decoration-color: #808000\">Q3</span>=<span style=\"color: #008080; text-decoration-color: #008080; font-weight: bold\">3.2843</span>, <span style=\"color: #808000; text-decoration-color: #808000\">IQR</span>=<span style=\"color: #008080; text-decoration-color: #008080; font-weight: bold\">0.8578</span>\n",
       "</pre>\n"
      ],
      "text/plain": [
       "  - Quartiles: \u001b[33mQ1\u001b[0m=\u001b[1;36m2\u001b[0m\u001b[1;36m.4265\u001b[0m, \u001b[33mQ3\u001b[0m=\u001b[1;36m3\u001b[0m\u001b[1;36m.2843\u001b[0m, \u001b[33mIQR\u001b[0m=\u001b[1;36m0\u001b[0m\u001b[1;36m.8578\u001b[0m\n"
      ]
     },
     "metadata": {},
     "output_type": "display_data"
    },
    {
     "data": {
      "text/html": [
       "<pre style=\"white-space:pre;overflow-x:auto;line-height:normal;font-family:Menlo,'DejaVu Sans Mono',consolas,'Courier New',monospace\">  - Bounds: <span style=\"color: #808000; text-decoration-color: #808000\">Lower</span>=<span style=\"color: #008080; text-decoration-color: #008080; font-weight: bold\">1.1398</span>, <span style=\"color: #808000; text-decoration-color: #808000\">Upper</span>=<span style=\"color: #008080; text-decoration-color: #008080; font-weight: bold\">4.5710</span>\n",
       "</pre>\n"
      ],
      "text/plain": [
       "  - Bounds: \u001b[33mLower\u001b[0m=\u001b[1;36m1\u001b[0m\u001b[1;36m.1398\u001b[0m, \u001b[33mUpper\u001b[0m=\u001b[1;36m4\u001b[0m\u001b[1;36m.5710\u001b[0m\n"
      ]
     },
     "metadata": {},
     "output_type": "display_data"
    },
    {
     "data": {
      "text/html": [
       "<pre style=\"white-space:pre;overflow-x:auto;line-height:normal;font-family:Menlo,'DejaVu Sans Mono',consolas,'Courier New',monospace\">  - Outliers: <span style=\"color: #008080; text-decoration-color: #008080; font-weight: bold\">662</span> <span style=\"font-weight: bold\">(</span><span style=\"color: #008080; text-decoration-color: #008080; font-weight: bold\">3.21</span>%<span style=\"font-weight: bold\">)</span>\n",
       "</pre>\n"
      ],
      "text/plain": [
       "  - Outliers: \u001b[1;36m662\u001b[0m \u001b[1m(\u001b[0m\u001b[1;36m3.21\u001b[0m%\u001b[1m)\u001b[0m\n"
      ]
     },
     "metadata": {},
     "output_type": "display_data"
    },
    {
     "data": {
      "image/png": "[encoded data removed]",
      "text/plain": [
       "<Figure size 1000x600 with 1 Axes>"
      ]
     },
     "metadata": {},
     "output_type": "display_data"
    },
    {
     "data": {
      "text/html": [
       "<pre style=\"white-space:pre;overflow-x:auto;line-height:normal;font-family:Menlo,'DejaVu Sans Mono',consolas,'Courier New',monospace\">Feature <span style=\"color: #008000; text-decoration-color: #008000\">'Latitude'</span>:\n",
       "</pre>\n"
      ],
      "text/plain": [
       "Feature \u001b[32m'Latitude'\u001b[0m:\n"
      ]
     },
     "metadata": {},
     "output_type": "display_data"
    },
    {
     "data": {
      "text/html": [
       "<pre style=\"white-space:pre;overflow-x:auto;line-height:normal;font-family:Menlo,'DejaVu Sans Mono',consolas,'Courier New',monospace\">  - Quartiles: <span style=\"color: #808000; text-decoration-color: #808000\">Q1</span>=<span style=\"color: #008080; text-decoration-color: #008080; font-weight: bold\">33.9300</span>, <span style=\"color: #808000; text-decoration-color: #808000\">Q3</span>=<span style=\"color: #008080; text-decoration-color: #008080; font-weight: bold\">37.7200</span>, <span style=\"color: #808000; text-decoration-color: #808000\">IQR</span>=<span style=\"color: #008080; text-decoration-color: #008080; font-weight: bold\">3.7900</span>\n",
       "</pre>\n"
      ],
      "text/plain": [
       "  - Quartiles: \u001b[33mQ1\u001b[0m=\u001b[1;36m33\u001b[0m\u001b[1;36m.9300\u001b[0m, \u001b[33mQ3\u001b[0m=\u001b[1;36m37\u001b[0m\u001b[1;36m.7200\u001b[0m, \u001b[33mIQR\u001b[0m=\u001b[1;36m3\u001b[0m\u001b[1;36m.7900\u001b[0m\n"
      ]
     },
     "metadata": {},
     "output_type": "display_data"
    },
    {
     "data": {
      "text/html": [
       "<pre style=\"white-space:pre;overflow-x:auto;line-height:normal;font-family:Menlo,'DejaVu Sans Mono',consolas,'Courier New',monospace\">  - Bounds: <span style=\"color: #808000; text-decoration-color: #808000\">Lower</span>=<span style=\"color: #008080; text-decoration-color: #008080; font-weight: bold\">28.2450</span>, <span style=\"color: #808000; text-decoration-color: #808000\">Upper</span>=<span style=\"color: #008080; text-decoration-color: #008080; font-weight: bold\">43.4050</span>\n",
       "</pre>\n"
      ],
      "text/plain": [
       "  - Bounds: \u001b[33mLower\u001b[0m=\u001b[1;36m28\u001b[0m\u001b[1;36m.2450\u001b[0m, \u001b[33mUpper\u001b[0m=\u001b[1;36m43\u001b[0m\u001b[1;36m.4050\u001b[0m\n"
      ]
     },
     "metadata": {},
     "output_type": "display_data"
    },
    {
     "data": {
      "text/html": [
       "<pre style=\"white-space:pre;overflow-x:auto;line-height:normal;font-family:Menlo,'DejaVu Sans Mono',consolas,'Courier New',monospace\">  - Outliers: <span style=\"color: #008080; text-decoration-color: #008080; font-weight: bold\">0</span> <span style=\"font-weight: bold\">(</span><span style=\"color: #008080; text-decoration-color: #008080; font-weight: bold\">0.00</span>%<span style=\"font-weight: bold\">)</span>\n",
       "</pre>\n"
      ],
      "text/plain": [
       "  - Outliers: \u001b[1;36m0\u001b[0m \u001b[1m(\u001b[0m\u001b[1;36m0.00\u001b[0m%\u001b[1m)\u001b[0m\n"
      ]
     },
     "metadata": {},
     "output_type": "display_data"
    },
    {
     "data": {
      "image/png": "[encoded data removed]",
      "text/plain": [
       "<Figure size 1000x600 with 1 Axes>"
      ]
     },
     "metadata": {},
     "output_type": "display_data"
    },
    {
     "data": {
      "text/html": [
       "<pre style=\"white-space:pre;overflow-x:auto;line-height:normal;font-family:Menlo,'DejaVu Sans Mono',consolas,'Courier New',monospace\">Feature <span style=\"color: #008000; text-decoration-color: #008000\">'Longitude'</span>:\n",
       "</pre>\n"
      ],
      "text/plain": [
       "Feature \u001b[32m'Longitude'\u001b[0m:\n"
      ]
     },
     "metadata": {},
     "output_type": "display_data"
    },
    {
     "data": {
      "text/html": [
       "<pre style=\"white-space:pre;overflow-x:auto;line-height:normal;font-family:Menlo,'DejaVu Sans Mono',consolas,'Courier New',monospace\">  - Quartiles: <span style=\"color: #808000; text-decoration-color: #808000\">Q1</span>=<span style=\"color: #008080; text-decoration-color: #008080; font-weight: bold\">-121.8000</span>, <span style=\"color: #808000; text-decoration-color: #808000\">Q3</span>=<span style=\"color: #008080; text-decoration-color: #008080; font-weight: bold\">-118.0200</span>, <span style=\"color: #808000; text-decoration-color: #808000\">IQR</span>=<span style=\"color: #008080; text-decoration-color: #008080; font-weight: bold\">3.7800</span>\n",
       "</pre>\n"
      ],
      "text/plain": [
       "  - Quartiles: \u001b[33mQ1\u001b[0m=\u001b[1;36m-121.8000\u001b[0m, \u001b[33mQ3\u001b[0m=\u001b[1;36m-118.0200\u001b[0m, \u001b[33mIQR\u001b[0m=\u001b[1;36m3\u001b[0m\u001b[1;36m.7800\u001b[0m\n"
      ]
     },
     "metadata": {},
     "output_type": "display_data"
    },
    {
     "data": {
      "text/html": [
       "<pre style=\"white-space:pre;overflow-x:auto;line-height:normal;font-family:Menlo,'DejaVu Sans Mono',consolas,'Courier New',monospace\">  - Bounds: <span style=\"color: #808000; text-decoration-color: #808000\">Lower</span>=<span style=\"color: #008080; text-decoration-color: #008080; font-weight: bold\">-127.4700</span>, <span style=\"color: #808000; text-decoration-color: #808000\">Upper</span>=<span style=\"color: #008080; text-decoration-color: #008080; font-weight: bold\">-112.3500</span>\n",
       "</pre>\n"
      ],
      "text/plain": [
       "  - Bounds: \u001b[33mLower\u001b[0m=\u001b[1;36m-127.4700\u001b[0m, \u001b[33mUpper\u001b[0m=\u001b[1;36m-112.3500\u001b[0m\n"
      ]
     },
     "metadata": {},
     "output_type": "display_data"
    },
    {
     "data": {
      "text/html": [
       "<pre style=\"white-space:pre;overflow-x:auto;line-height:normal;font-family:Menlo,'DejaVu Sans Mono',consolas,'Courier New',monospace\">  - Outliers: <span style=\"color: #008080; text-decoration-color: #008080; font-weight: bold\">0</span> <span style=\"font-weight: bold\">(</span><span style=\"color: #008080; text-decoration-color: #008080; font-weight: bold\">0.00</span>%<span style=\"font-weight: bold\">)</span>\n",
       "</pre>\n"
      ],
      "text/plain": [
       "  - Outliers: \u001b[1;36m0\u001b[0m \u001b[1m(\u001b[0m\u001b[1;36m0.00\u001b[0m%\u001b[1m)\u001b[0m\n"
      ]
     },
     "metadata": {},
     "output_type": "display_data"
    },
    {
     "data": {
      "image/png": "[encoded data removed]",
      "text/plain": [
       "<Figure size 1000x600 with 1 Axes>"
      ]
     },
     "metadata": {},
     "output_type": "display_data"
    },
    {
     "data": {
      "text/html": [
       "<pre style=\"white-space:pre;overflow-x:auto;line-height:normal;font-family:Menlo,'DejaVu Sans Mono',consolas,'Courier New',monospace\">Feature <span style=\"color: #008000; text-decoration-color: #008000\">'Target'</span>:\n",
       "</pre>\n"
      ],
      "text/plain": [
       "Feature \u001b[32m'Target'\u001b[0m:\n"
      ]
     },
     "metadata": {},
     "output_type": "display_data"
    },
    {
     "data": {
      "text/html": [
       "<pre style=\"white-space:pre;overflow-x:auto;line-height:normal;font-family:Menlo,'DejaVu Sans Mono',consolas,'Courier New',monospace\">  - Quartiles: <span style=\"color: #808000; text-decoration-color: #808000\">Q1</span>=<span style=\"color: #008080; text-decoration-color: #008080; font-weight: bold\">1.1840</span>, <span style=\"color: #808000; text-decoration-color: #808000\">Q3</span>=<span style=\"color: #008080; text-decoration-color: #008080; font-weight: bold\">2.6008</span>, <span style=\"color: #808000; text-decoration-color: #808000\">IQR</span>=<span style=\"color: #008080; text-decoration-color: #008080; font-weight: bold\">1.4168</span>\n",
       "</pre>\n"
      ],
      "text/plain": [
       "  - Quartiles: \u001b[33mQ1\u001b[0m=\u001b[1;36m1\u001b[0m\u001b[1;36m.1840\u001b[0m, \u001b[33mQ3\u001b[0m=\u001b[1;36m2\u001b[0m\u001b[1;36m.6008\u001b[0m, \u001b[33mIQR\u001b[0m=\u001b[1;36m1\u001b[0m\u001b[1;36m.4168\u001b[0m\n"
      ]
     },
     "metadata": {},
     "output_type": "display_data"
    },
    {
     "data": {
      "text/html": [
       "<pre style=\"white-space:pre;overflow-x:auto;line-height:normal;font-family:Menlo,'DejaVu Sans Mono',consolas,'Courier New',monospace\">  - Bounds: <span style=\"color: #808000; text-decoration-color: #808000\">Lower</span>=<span style=\"color: #008080; text-decoration-color: #008080; font-weight: bold\">-0.9411</span>, <span style=\"color: #808000; text-decoration-color: #808000\">Upper</span>=<span style=\"color: #008080; text-decoration-color: #008080; font-weight: bold\">4.7259</span>\n",
       "</pre>\n"
      ],
      "text/plain": [
       "  - Bounds: \u001b[33mLower\u001b[0m=\u001b[1;36m-0.9411\u001b[0m, \u001b[33mUpper\u001b[0m=\u001b[1;36m4\u001b[0m\u001b[1;36m.7259\u001b[0m\n"
      ]
     },
     "metadata": {},
     "output_type": "display_data"
    },
    {
     "data": {
      "text/html": [
       "<pre style=\"white-space:pre;overflow-x:auto;line-height:normal;font-family:Menlo,'DejaVu Sans Mono',consolas,'Courier New',monospace\">  - Outliers: <span style=\"color: #008080; text-decoration-color: #008080; font-weight: bold\">812</span> <span style=\"font-weight: bold\">(</span><span style=\"color: #008080; text-decoration-color: #008080; font-weight: bold\">3.93</span>%<span style=\"font-weight: bold\">)</span>\n",
       "</pre>\n"
      ],
      "text/plain": [
       "  - Outliers: \u001b[1;36m812\u001b[0m \u001b[1m(\u001b[0m\u001b[1;36m3.93\u001b[0m%\u001b[1m)\u001b[0m\n"
      ]
     },
     "metadata": {},
     "output_type": "display_data"
    },
    {
     "data": {
      "image/png": "[encoded data removed]",
      "text/plain": [
       "<Figure size 1000x600 with 1 Axes>"
      ]
     },
     "metadata": {},
     "output_type": "display_data"
    }
   ],
   "source": [
    "# For each feature, calculate quartiles and identify outliers\n",
    "outlier_info = {}\n",
    "\n",
    "for feature in df_no_outliers.columns:\n",
    "    # Calculate quartiles for this specific feature\n",
    "    Q1 = df_no_outliers[feature].quantile(0.25)\n",
    "    Q3 = df_no_outliers[feature].quantile(0.75)\n",
    "    IQR = Q3 - Q1\n",
    "    \n",
    "    # Define bounds for outliers\n",
    "    lower_bound = Q1 - 1.5 * IQR\n",
    "    upper_bound = Q3 + 1.5 * IQR\n",
    "    \n",
    "    # Identify outliers for this feature\n",
    "    outliers = df_no_outliers[(df_no_outliers[feature] < lower_bound) | (df_no_outliers[feature] > upper_bound)]\n",
    "    \n",
    "    # Count and store information\n",
    "    outlier_count = len(outliers)\n",
    "    outlier_info[feature] = {\n",
    "        'count': outlier_count,\n",
    "        'percentage': (outlier_count / len(df_housing)) * 100,\n",
    "        'lower_bound': lower_bound,\n",
    "        'upper_bound': upper_bound\n",
    "    }\n",
    "    \n",
    "    # Print summary for this feature\n",
    "    print(f\"Feature '{feature}':\")\n",
    "    print(f\"  - Quartiles: Q1={Q1:.4f}, Q3={Q3:.4f}, IQR={IQR:.4f}\")\n",
    "    print(f\"  - Bounds: Lower={lower_bound:.4f}, Upper={upper_bound:.4f}\")\n",
    "    print(f\"  - Outliers: {outlier_count} ({outlier_info[feature]['percentage']:.2f}%)\")\n",
    "    \n",
    "    # Visualize the feature with outliers highlighted\n",
    "    plt.figure(figsize=(10, 6))\n",
    "    plt.boxplot(df_housing[feature])\n",
    "    plt.title(f'Boxplot for {feature}')\n",
    "    plt.grid(True, linestyle='--', alpha=0.7)\n",
    "    plt.show()"
   ]
  },
  {
   "cell_type": "code",
   "execution_count": null,
   "id": "7dcab97a",
   "metadata": {},
   "outputs": [],
   "source": []
  },
  {
   "cell_type": "code",
   "execution_count": null,
   "id": "38f131e1",
   "metadata": {},
   "outputs": [],
   "source": []
  }
 ],
 "metadata": {
  "kernelspec": {
   "display_name": "llm_training",
   "language": "python",
   "name": "python3"
  },
  "language_info": {
   "codemirror_mode": {
    "name": "ipython",
    "version": 3
   },
   "file_extension": ".py",
   "mimetype": "text/x-python",
   "name": "python",
   "nbconvert_exporter": "python",
   "pygments_lexer": "ipython3",
   "version": "3.13.3"
  }
 },
 "nbformat": 4,
 "nbformat_minor": 5
}
